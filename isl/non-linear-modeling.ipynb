{
 "cells": [
  {
   "cell_type": "code",
   "execution_count": 165,
   "id": "e2f82a98-83a0-42cf-87c0-2164436740c2",
   "metadata": {},
   "outputs": [],
   "source": [
    "import pandas as pd\n",
    "import numpy as np\n",
    "import statsmodels.api as sm\n",
    "import matplotlib as mpl\n",
    "import matplotlib.pyplot as plt\n",
    "import sklearn\n",
    "from sklearn.preprocessing import (\n",
    "    PolynomialFeatures, \n",
    "    OneHotEncoder,\n",
    "    SplineTransformer\n",
    ")"
   ]
  },
  {
   "cell_type": "code",
   "execution_count": 5,
   "id": "2502e648-172d-4744-ab96-8439352a3525",
   "metadata": {},
   "outputs": [
    {
     "data": {
      "text/html": [
       "<div>\n",
       "<style scoped>\n",
       "    .dataframe tbody tr th:only-of-type {\n",
       "        vertical-align: middle;\n",
       "    }\n",
       "\n",
       "    .dataframe tbody tr th {\n",
       "        vertical-align: top;\n",
       "    }\n",
       "\n",
       "    .dataframe thead th {\n",
       "        text-align: right;\n",
       "    }\n",
       "</style>\n",
       "<table border=\"1\" class=\"dataframe\">\n",
       "  <thead>\n",
       "    <tr style=\"text-align: right;\">\n",
       "      <th></th>\n",
       "      <th>year</th>\n",
       "      <th>age</th>\n",
       "      <th>maritl</th>\n",
       "      <th>race</th>\n",
       "      <th>education</th>\n",
       "      <th>region</th>\n",
       "      <th>jobclass</th>\n",
       "      <th>health</th>\n",
       "      <th>health_ins</th>\n",
       "      <th>logwage</th>\n",
       "      <th>wage</th>\n",
       "    </tr>\n",
       "  </thead>\n",
       "  <tbody>\n",
       "    <tr>\n",
       "      <th>0</th>\n",
       "      <td>2006</td>\n",
       "      <td>18</td>\n",
       "      <td>1. Never Married</td>\n",
       "      <td>1. White</td>\n",
       "      <td>1. &lt; HS Grad</td>\n",
       "      <td>2. Middle Atlantic</td>\n",
       "      <td>1. Industrial</td>\n",
       "      <td>1. &lt;=Good</td>\n",
       "      <td>2. No</td>\n",
       "      <td>4.318063</td>\n",
       "      <td>75.043154</td>\n",
       "    </tr>\n",
       "    <tr>\n",
       "      <th>1</th>\n",
       "      <td>2004</td>\n",
       "      <td>24</td>\n",
       "      <td>1. Never Married</td>\n",
       "      <td>1. White</td>\n",
       "      <td>4. College Grad</td>\n",
       "      <td>2. Middle Atlantic</td>\n",
       "      <td>2. Information</td>\n",
       "      <td>2. &gt;=Very Good</td>\n",
       "      <td>2. No</td>\n",
       "      <td>4.255273</td>\n",
       "      <td>70.476020</td>\n",
       "    </tr>\n",
       "    <tr>\n",
       "      <th>2</th>\n",
       "      <td>2003</td>\n",
       "      <td>45</td>\n",
       "      <td>2. Married</td>\n",
       "      <td>1. White</td>\n",
       "      <td>3. Some College</td>\n",
       "      <td>2. Middle Atlantic</td>\n",
       "      <td>1. Industrial</td>\n",
       "      <td>1. &lt;=Good</td>\n",
       "      <td>1. Yes</td>\n",
       "      <td>4.875061</td>\n",
       "      <td>130.982177</td>\n",
       "    </tr>\n",
       "    <tr>\n",
       "      <th>3</th>\n",
       "      <td>2003</td>\n",
       "      <td>43</td>\n",
       "      <td>2. Married</td>\n",
       "      <td>3. Asian</td>\n",
       "      <td>4. College Grad</td>\n",
       "      <td>2. Middle Atlantic</td>\n",
       "      <td>2. Information</td>\n",
       "      <td>2. &gt;=Very Good</td>\n",
       "      <td>1. Yes</td>\n",
       "      <td>5.041393</td>\n",
       "      <td>154.685293</td>\n",
       "    </tr>\n",
       "    <tr>\n",
       "      <th>4</th>\n",
       "      <td>2005</td>\n",
       "      <td>50</td>\n",
       "      <td>4. Divorced</td>\n",
       "      <td>1. White</td>\n",
       "      <td>2. HS Grad</td>\n",
       "      <td>2. Middle Atlantic</td>\n",
       "      <td>2. Information</td>\n",
       "      <td>1. &lt;=Good</td>\n",
       "      <td>1. Yes</td>\n",
       "      <td>4.318063</td>\n",
       "      <td>75.043154</td>\n",
       "    </tr>\n",
       "  </tbody>\n",
       "</table>\n",
       "</div>"
      ],
      "text/plain": [
       "   year  age            maritl      race        education              region  \\\n",
       "0  2006   18  1. Never Married  1. White     1. < HS Grad  2. Middle Atlantic   \n",
       "1  2004   24  1. Never Married  1. White  4. College Grad  2. Middle Atlantic   \n",
       "2  2003   45        2. Married  1. White  3. Some College  2. Middle Atlantic   \n",
       "3  2003   43        2. Married  3. Asian  4. College Grad  2. Middle Atlantic   \n",
       "4  2005   50       4. Divorced  1. White       2. HS Grad  2. Middle Atlantic   \n",
       "\n",
       "         jobclass          health health_ins   logwage        wage  \n",
       "0   1. Industrial       1. <=Good      2. No  4.318063   75.043154  \n",
       "1  2. Information  2. >=Very Good      2. No  4.255273   70.476020  \n",
       "2   1. Industrial       1. <=Good     1. Yes  4.875061  130.982177  \n",
       "3  2. Information  2. >=Very Good     1. Yes  5.041393  154.685293  \n",
       "4  2. Information       1. <=Good     1. Yes  4.318063   75.043154  "
      ]
     },
     "execution_count": 5,
     "metadata": {},
     "output_type": "execute_result"
    }
   ],
   "source": [
    "df = pd.read_csv('data/Wage.csv')\n",
    "df.head()"
   ]
  },
  {
   "cell_type": "code",
   "execution_count": 20,
   "id": "6be26dd6-f06d-42a4-af8a-ccf58907feac",
   "metadata": {},
   "outputs": [],
   "source": [
    "x = df['age']\n",
    "y = df['wage']"
   ]
  },
  {
   "cell_type": "code",
   "execution_count": 50,
   "id": "a1c1a41a-9a25-456f-9588-1b3cb8dd49ca",
   "metadata": {},
   "outputs": [
    {
     "name": "stdout",
     "output_type": "stream",
     "text": [
      "                            OLS Regression Results                            \n",
      "==============================================================================\n",
      "Dep. Variable:                   wage   R-squared:                       0.086\n",
      "Model:                            OLS   Adj. R-squared:                  0.085\n",
      "Method:                 Least Squares   F-statistic:                     70.69\n",
      "Date:                Fri, 29 Jul 2022   Prob (F-statistic):           2.77e-57\n",
      "Time:                        20:01:48   Log-Likelihood:                -15315.\n",
      "No. Observations:                3000   AIC:                         3.064e+04\n",
      "Df Residuals:                    2995   BIC:                         3.067e+04\n",
      "Df Model:                           4                                         \n",
      "Covariance Type:            nonrobust                                         \n",
      "==============================================================================\n",
      "                 coef    std err          t      P>|t|      [0.025      0.975]\n",
      "------------------------------------------------------------------------------\n",
      "const       -184.1542     60.040     -3.067      0.002    -301.879     -66.430\n",
      "x1            21.2455      5.887      3.609      0.000       9.703      32.788\n",
      "x2            -0.5639      0.206     -2.736      0.006      -0.968      -0.160\n",
      "x3             0.0068      0.003      2.221      0.026       0.001       0.013\n",
      "x4         -3.204e-05   1.64e-05     -1.952      0.051   -6.42e-05    1.45e-07\n",
      "==============================================================================\n",
      "Omnibus:                     1097.594   Durbin-Watson:                   1.960\n",
      "Prob(Omnibus):                  0.000   Jarque-Bera (JB):             4965.521\n",
      "Skew:                           1.722   Prob(JB):                         0.00\n",
      "Kurtosis:                       8.279   Cond. No.                     5.67e+08\n",
      "==============================================================================\n",
      "\n",
      "Notes:\n",
      "[1] Standard Errors assume that the covariance matrix of the errors is correctly specified.\n",
      "[2] The condition number is large, 5.67e+08. This might indicate that there are\n",
      "strong multicollinearity or other numerical problems.\n"
     ]
    }
   ],
   "source": [
    "def poly(x, p): \n",
    "    # transform to poly of degree p\n",
    "    x = np.array(x)\n",
    "    X = np.hstack((x**k for k in range(p + 1)))\n",
    "    return np.linalg.qr(X)[0][:, 1:]\n",
    "\n",
    "polynomial_features = PolynomialFeatures(degree=4)\n",
    "x = np.array(x).reshape((-1, 1))\n",
    "xp = polynomial_features.fit_transform(x) # pure polynomial transform\n",
    "# xp = poly(x, 4) # orthogonal columns, but you gotta add a constant\n",
    "# xp = sm.add_constant(xp)\n",
    "\n",
    "result = sm.OLS(y, xp).fit()\n",
    "print(result.summary())"
   ]
  },
  {
   "cell_type": "code",
   "execution_count": 73,
   "id": "5e836c4b-7e15-4bc8-b9b1-ecc11715c103",
   "metadata": {},
   "outputs": [
    {
     "data": {
      "text/plain": [
       "[<matplotlib.lines.Line2D at 0x14730e9c5e80>]"
      ]
     },
     "execution_count": 73,
     "metadata": {},
     "output_type": "execute_result"
    },
    {
     "data": {
      "image/png": "[encoded data removed]",
      "text/plain": [
       "<Figure size 576x432 with 1 Axes>"
      ]
     },
     "metadata": {
      "needs_background": "light"
     },
     "output_type": "display_data"
    }
   ],
   "source": [
    "test_data = np.arange(x.min(), x.max() + 1).reshape(-1, 1)\n",
    "test_data_p = polynomial_features.fit_transform(test_data)\n",
    "pred = result.get_prediction(test_data_p)\n",
    "sf = pred.summary_frame()\n",
    "\n",
    "lower = sf['obs_ci_lower']\n",
    "upper = sf['obs_ci_upper']\n",
    "mean = sf['mean']\n",
    "\n",
    "# prediction intervals are where a prediction will probably fall within a certain probability\n",
    "\n",
    "# plot prediction intervals\n",
    "fig, ax = plt.subplots(figsize=(8, 6)) \n",
    "ax.plot(x, y, 'k.', label='Test Data')\n",
    "ax.plot(test_data, mean, 'b', label='OLS')\n",
    "ax.plot(test_data, lower, \"r--\")\n",
    "ax.plot(test_data, upper, \"r--\")"
   ]
  },
  {
   "cell_type": "code",
   "execution_count": 74,
   "id": "67fbba6d-3842-4950-9e03-f360f0b7a291",
   "metadata": {},
   "outputs": [],
   "source": [
    "# if we used orthogonal polylnomials, we could analyze p-values \n",
    "# to see whether a degree d polynomial is sufficient\n",
    "# but we could also not and just do an ANOVA test"
   ]
  },
  {
   "cell_type": "code",
   "execution_count": 106,
   "id": "8ce97f44-cbc4-4f40-bc61-8e502d9fb773",
   "metadata": {},
   "outputs": [],
   "source": [
    "# naive logistic prediction, i think this worked? looks funky, but maybe\n",
    "# cause this just doesn't work well, makes sense cause it's so concentrated towards the bottom\n",
    "y_ind = np.apply_along_axis(lambda x: 1 if x >= 250 else 0, axis=1, arr=np.array(y).reshape((-1, 1)))\n",
    "logistic_result = sm.GLM(y_ind, xp, family=sm.families.Binomial()).fit()"
   ]
  },
  {
   "cell_type": "code",
   "execution_count": 185,
   "id": "87e45569-9175-4b02-af22-18cfdf440a4b",
   "metadata": {},
   "outputs": [
    {
     "name": "stdout",
     "output_type": "stream",
     "text": [
      "           mean       mean_se  mean_ci_lower  mean_ci_upper\n",
      "0  9.826349e-09  6.037272e-08   5.789509e-14       0.001665\n",
      "1  7.577793e-08  3.984230e-07   2.535830e-12       0.002259\n",
      "2  4.746672e-07  2.120648e-06   7.473355e-11       0.003006\n",
      "3  2.449189e-06  9.225813e-06   1.522781e-09       0.003924\n",
      "4  1.055184e-05  3.322775e-05   2.202266e-08       0.005030\n"
     ]
    },
    {
     "data": {
      "text/plain": [
       "[<matplotlib.lines.Line2D at 0x1472fc682940>]"
      ]
     },
     "execution_count": 185,
     "metadata": {},
     "output_type": "execute_result"
    },
    {
     "data": {
      "image/png": "[encoded data removed]",
      "text/plain": [
       "<Figure size 576x432 with 1 Axes>"
      ]
     },
     "metadata": {
      "needs_background": "light"
     },
     "output_type": "display_data"
    }
   ],
   "source": [
    "logistic_pred = logistic_result.get_prediction(test_data_p)\n",
    "logistic_sf = logistic_pred.summary_frame()\n",
    "print(logistic_sf.head())\n",
    "\n",
    "logistic_lower = logistic_sf['mean_ci_lower'] # i'm pretty sure this is wrong, we probably have to manually compute this\n",
    "logistic_upper = logistic_sf['mean_ci_upper']\n",
    "logistic_mean = logistic_sf['mean']\n",
    "\n",
    "# prediction intervals are where a prediction will probably fall within a certain probability\n",
    "\n",
    "# plot prediction intervals\n",
    "fig, ax = plt.subplots(figsize=(8, 6)) \n",
    "ax.plot(x, y_ind, 'k.', label='Test Data')\n",
    "ax.plot(test_data, logistic_mean, 'b', label='OLS')\n",
    "ax.plot(test_data, logistic_lower, \"r--\")\n",
    "ax.plot(test_data, logistic_upper, \"r--\")"
   ]
  },
  {
   "cell_type": "code",
   "execution_count": 186,
   "id": "582d87e1-ae88-4e27-9394-d71326a4d575",
   "metadata": {},
   "outputs": [
    {
     "data": {
      "text/html": [
       "<table class=\"simpletable\">\n",
       "<caption>OLS Regression Results</caption>\n",
       "<tr>\n",
       "  <th>Dep. Variable:</th>          <td>wage</td>       <th>  R-squared:         </th> <td>   0.062</td> \n",
       "</tr>\n",
       "<tr>\n",
       "  <th>Model:</th>                   <td>OLS</td>       <th>  Adj. R-squared:    </th> <td>   0.062</td> \n",
       "</tr>\n",
       "<tr>\n",
       "  <th>Method:</th>             <td>Least Squares</td>  <th>  F-statistic:       </th> <td>   66.58</td> \n",
       "</tr>\n",
       "<tr>\n",
       "  <th>Date:</th>             <td>Fri, 29 Jul 2022</td> <th>  Prob (F-statistic):</th> <td>1.13e-41</td> \n",
       "</tr>\n",
       "<tr>\n",
       "  <th>Time:</th>                 <td>21:13:00</td>     <th>  Log-Likelihood:    </th> <td> -15353.</td> \n",
       "</tr>\n",
       "<tr>\n",
       "  <th>No. Observations:</th>      <td>  3000</td>      <th>  AIC:               </th> <td>3.071e+04</td>\n",
       "</tr>\n",
       "<tr>\n",
       "  <th>Df Residuals:</th>          <td>  2996</td>      <th>  BIC:               </th> <td>3.074e+04</td>\n",
       "</tr>\n",
       "<tr>\n",
       "  <th>Df Model:</th>              <td>     3</td>      <th>                     </th>     <td> </td>    \n",
       "</tr>\n",
       "<tr>\n",
       "  <th>Covariance Type:</th>      <td>nonrobust</td>    <th>                     </th>     <td> </td>    \n",
       "</tr>\n",
       "</table>\n",
       "<table class=\"simpletable\">\n",
       "<tr>\n",
       "    <td></td>       <th>coef</th>     <th>std err</th>      <th>t</th>      <th>P>|t|</th>  <th>[0.025</th>    <th>0.975]</th>  \n",
       "</tr>\n",
       "<tr>\n",
       "  <th>const</th> <td>   86.3984</td> <td>    1.061</td> <td>   81.435</td> <td> 0.000</td> <td>   84.318</td> <td>   88.479</td>\n",
       "</tr>\n",
       "<tr>\n",
       "  <th>x1</th>    <td>    7.7599</td> <td>    1.560</td> <td>    4.975</td> <td> 0.000</td> <td>    4.702</td> <td>   10.818</td>\n",
       "</tr>\n",
       "<tr>\n",
       "  <th>x2</th>    <td>   31.8134</td> <td>    1.351</td> <td>   23.540</td> <td> 0.000</td> <td>   29.164</td> <td>   34.463</td>\n",
       "</tr>\n",
       "<tr>\n",
       "  <th>x3</th>    <td>   31.4245</td> <td>    1.544</td> <td>   20.352</td> <td> 0.000</td> <td>   28.397</td> <td>   34.452</td>\n",
       "</tr>\n",
       "<tr>\n",
       "  <th>x4</th>    <td>   15.4005</td> <td>    3.840</td> <td>    4.011</td> <td> 0.000</td> <td>    7.872</td> <td>   22.929</td>\n",
       "</tr>\n",
       "</table>\n",
       "<table class=\"simpletable\">\n",
       "<tr>\n",
       "  <th>Omnibus:</th>       <td>1062.354</td> <th>  Durbin-Watson:     </th> <td>   1.965</td>\n",
       "</tr>\n",
       "<tr>\n",
       "  <th>Prob(Omnibus):</th>  <td> 0.000</td>  <th>  Jarque-Bera (JB):  </th> <td>4551.200</td>\n",
       "</tr>\n",
       "<tr>\n",
       "  <th>Skew:</th>           <td> 1.681</td>  <th>  Prob(JB):          </th> <td>    0.00</td>\n",
       "</tr>\n",
       "<tr>\n",
       "  <th>Kurtosis:</th>       <td> 8.011</td>  <th>  Cond. No.          </th> <td>1.78e+15</td>\n",
       "</tr>\n",
       "</table><br/><br/>Notes:<br/>[1] Standard Errors assume that the covariance matrix of the errors is correctly specified.<br/>[2] The smallest eigenvalue is 1.29e-27. This might indicate that there are<br/>strong multicollinearity problems or that the design matrix is singular."
      ],
      "text/plain": [
       "<class 'statsmodels.iolib.summary.Summary'>\n",
       "\"\"\"\n",
       "                            OLS Regression Results                            \n",
       "==============================================================================\n",
       "Dep. Variable:                   wage   R-squared:                       0.062\n",
       "Model:                            OLS   Adj. R-squared:                  0.062\n",
       "Method:                 Least Squares   F-statistic:                     66.58\n",
       "Date:                Fri, 29 Jul 2022   Prob (F-statistic):           1.13e-41\n",
       "Time:                        21:13:00   Log-Likelihood:                -15353.\n",
       "No. Observations:                3000   AIC:                         3.071e+04\n",
       "Df Residuals:                    2996   BIC:                         3.074e+04\n",
       "Df Model:                           3                                         \n",
       "Covariance Type:            nonrobust                                         \n",
       "==============================================================================\n",
       "                 coef    std err          t      P>|t|      [0.025      0.975]\n",
       "------------------------------------------------------------------------------\n",
       "const         86.3984      1.061     81.435      0.000      84.318      88.479\n",
       "x1             7.7599      1.560      4.975      0.000       4.702      10.818\n",
       "x2            31.8134      1.351     23.540      0.000      29.164      34.463\n",
       "x3            31.4245      1.544     20.352      0.000      28.397      34.452\n",
       "x4            15.4005      3.840      4.011      0.000       7.872      22.929\n",
       "==============================================================================\n",
       "Omnibus:                     1062.354   Durbin-Watson:                   1.965\n",
       "Prob(Omnibus):                  0.000   Jarque-Bera (JB):             4551.200\n",
       "Skew:                           1.681   Prob(JB):                         0.00\n",
       "Kurtosis:                       8.011   Cond. No.                     1.78e+15\n",
       "==============================================================================\n",
       "\n",
       "Notes:\n",
       "[1] Standard Errors assume that the covariance matrix of the errors is correctly specified.\n",
       "[2] The smallest eigenvalue is 1.29e-27. This might indicate that there are\n",
       "strong multicollinearity problems or that the design matrix is singular.\n",
       "\"\"\""
      ]
     },
     "execution_count": 186,
     "metadata": {},
     "output_type": "execute_result"
    }
   ],
   "source": [
    "# stepwise\n",
    "categorized = pd.cut(x.reshape((-1,)), bins=4, labels=False)\n",
    "categorized = categorized.reshape((-1, 1))\n",
    "enc = OneHotEncoder().fit(categorized)\n",
    "encoded = enc.transform(categorized).toarray()\n",
    "encoded = sm.add_constant(encoded).astype(np.int32)\n",
    "step_res = sm.OLS(y, encoded).fit()\n",
    "step_res.summary()"
   ]
  },
  {
   "cell_type": "code",
   "execution_count": 223,
   "id": "7636bfb7-4423-4a9d-a599-483d3d607766",
   "metadata": {},
   "outputs": [
    {
     "data": {
      "text/html": [
       "<table class=\"simpletable\">\n",
       "<caption>OLS Regression Results</caption>\n",
       "<tr>\n",
       "  <th>Dep. Variable:</th>          <td>wage</td>       <th>  R-squared:         </th> <td>   0.086</td> \n",
       "</tr>\n",
       "<tr>\n",
       "  <th>Model:</th>                   <td>OLS</td>       <th>  Adj. R-squared:    </th> <td>   0.084</td> \n",
       "</tr>\n",
       "<tr>\n",
       "  <th>Method:</th>             <td>Least Squares</td>  <th>  F-statistic:       </th> <td>   70.05</td> \n",
       "</tr>\n",
       "<tr>\n",
       "  <th>Date:</th>             <td>Fri, 29 Jul 2022</td> <th>  Prob (F-statistic):</th> <td>8.80e-57</td> \n",
       "</tr>\n",
       "<tr>\n",
       "  <th>Time:</th>                 <td>21:46:20</td>     <th>  Log-Likelihood:    </th> <td> -15316.</td> \n",
       "</tr>\n",
       "<tr>\n",
       "  <th>No. Observations:</th>      <td>  3000</td>      <th>  AIC:               </th> <td>3.064e+04</td>\n",
       "</tr>\n",
       "<tr>\n",
       "  <th>Df Residuals:</th>          <td>  2995</td>      <th>  BIC:               </th> <td>3.067e+04</td>\n",
       "</tr>\n",
       "<tr>\n",
       "  <th>Df Model:</th>              <td>     4</td>      <th>                     </th>     <td> </td>    \n",
       "</tr>\n",
       "<tr>\n",
       "  <th>Covariance Type:</th>      <td>nonrobust</td>    <th>                     </th>     <td> </td>    \n",
       "</tr>\n",
       "</table>\n",
       "<table class=\"simpletable\">\n",
       "<tr>\n",
       "   <td></td>     <th>coef</th>     <th>std err</th>      <th>t</th>      <th>P>|t|</th>  <th>[0.025</th>    <th>0.975]</th>  \n",
       "</tr>\n",
       "<tr>\n",
       "  <th>x1</th> <td>   -5.5650</td> <td>   18.153</td> <td>   -0.307</td> <td> 0.759</td> <td>  -41.159</td> <td>   30.029</td>\n",
       "</tr>\n",
       "<tr>\n",
       "  <th>x2</th> <td>  101.9815</td> <td>    5.389</td> <td>   18.925</td> <td> 0.000</td> <td>   91.416</td> <td>  112.547</td>\n",
       "</tr>\n",
       "<tr>\n",
       "  <th>x3</th> <td>  122.7199</td> <td>    4.085</td> <td>   30.045</td> <td> 0.000</td> <td>  114.711</td> <td>  130.729</td>\n",
       "</tr>\n",
       "<tr>\n",
       "  <th>x4</th> <td>  118.8394</td> <td>    5.941</td> <td>   20.004</td> <td> 0.000</td> <td>  107.191</td> <td>  130.488</td>\n",
       "</tr>\n",
       "<tr>\n",
       "  <th>x5</th> <td>   92.7963</td> <td>   16.761</td> <td>    5.536</td> <td> 0.000</td> <td>   59.932</td> <td>  125.661</td>\n",
       "</tr>\n",
       "</table>\n",
       "<table class=\"simpletable\">\n",
       "<tr>\n",
       "  <th>Omnibus:</th>       <td>1098.734</td> <th>  Durbin-Watson:     </th> <td>   1.961</td>\n",
       "</tr>\n",
       "<tr>\n",
       "  <th>Prob(Omnibus):</th>  <td> 0.000</td>  <th>  Jarque-Bera (JB):  </th> <td>4979.702</td>\n",
       "</tr>\n",
       "<tr>\n",
       "  <th>Skew:</th>           <td> 1.723</td>  <th>  Prob(JB):          </th> <td>    0.00</td>\n",
       "</tr>\n",
       "<tr>\n",
       "  <th>Kurtosis:</th>       <td> 8.288</td>  <th>  Cond. No.          </th> <td>    17.3</td>\n",
       "</tr>\n",
       "</table><br/><br/>Notes:<br/>[1] Standard Errors assume that the covariance matrix of the errors is correctly specified."
      ],
      "text/plain": [
       "<class 'statsmodels.iolib.summary.Summary'>\n",
       "\"\"\"\n",
       "                            OLS Regression Results                            \n",
       "==============================================================================\n",
       "Dep. Variable:                   wage   R-squared:                       0.086\n",
       "Model:                            OLS   Adj. R-squared:                  0.084\n",
       "Method:                 Least Squares   F-statistic:                     70.05\n",
       "Date:                Fri, 29 Jul 2022   Prob (F-statistic):           8.80e-57\n",
       "Time:                        21:46:20   Log-Likelihood:                -15316.\n",
       "No. Observations:                3000   AIC:                         3.064e+04\n",
       "Df Residuals:                    2995   BIC:                         3.067e+04\n",
       "Df Model:                           4                                         \n",
       "Covariance Type:            nonrobust                                         \n",
       "==============================================================================\n",
       "                 coef    std err          t      P>|t|      [0.025      0.975]\n",
       "------------------------------------------------------------------------------\n",
       "x1            -5.5650     18.153     -0.307      0.759     -41.159      30.029\n",
       "x2           101.9815      5.389     18.925      0.000      91.416     112.547\n",
       "x3           122.7199      4.085     30.045      0.000     114.711     130.729\n",
       "x4           118.8394      5.941     20.004      0.000     107.191     130.488\n",
       "x5            92.7963     16.761      5.536      0.000      59.932     125.661\n",
       "==============================================================================\n",
       "Omnibus:                     1098.734   Durbin-Watson:                   1.961\n",
       "Prob(Omnibus):                  0.000   Jarque-Bera (JB):             4979.702\n",
       "Skew:                           1.723   Prob(JB):                         0.00\n",
       "Kurtosis:                       8.288   Cond. No.                         17.3\n",
       "==============================================================================\n",
       "\n",
       "Notes:\n",
       "[1] Standard Errors assume that the covariance matrix of the errors is correctly specified.\n",
       "\"\"\""
      ]
     },
     "execution_count": 223,
     "metadata": {},
     "output_type": "execute_result"
    }
   ],
   "source": [
    "# splines, i'm confused why we have one less basis function here tho :/\n",
    "# currently this is a natural spline\n",
    "transformer = SplineTransformer( \n",
    "    degree=3, \n",
    "    knots=np.array([25, 40, 60]).reshape((-1, 1)),\n",
    "    include_bias=True,\n",
    "    extrapolation='linear' # change this to continue to get a non natural spline\n",
    ")\n",
    "spline_x = transformer.fit_transform(x)\n",
    "spline_res = sm.OLS(y, spline_x).fit()\n",
    "spline_res.summary()"
   ]
  },
  {
   "cell_type": "code",
   "execution_count": 224,
   "id": "d24ccfff-7309-44b4-9f09-e6bc2bf1d733",
   "metadata": {},
   "outputs": [
    {
     "name": "stdout",
     "output_type": "stream",
     "text": [
      "        mean   mean_se  mean_ci_lower  mean_ci_upper  obs_ci_lower  \\\n",
      "0  57.718601  4.556010      48.785375      66.651827    -21.082953   \n",
      "1  61.925636  4.050445      53.983700      69.867572    -16.769705   \n",
      "2  66.132671  3.557229      59.157812      73.107530    -12.470961   \n",
      "3  70.339706  3.082295      64.296077      76.383336     -8.186772   \n",
      "4  74.546742  2.635546      69.379078      79.714405     -3.917181   \n",
      "\n",
      "   obs_ci_upper  \n",
      "0    136.520155  \n",
      "1    140.620977  \n",
      "2    144.736304  \n",
      "3    148.866185  \n",
      "4    153.010664  \n"
     ]
    },
    {
     "data": {
      "text/plain": [
       "[<matplotlib.lines.Line2D at 0x1472fc352850>]"
      ]
     },
     "execution_count": 224,
     "metadata": {},
     "output_type": "execute_result"
    },
    {
     "data": {
      "image/png": "[encoded data removed]",
      "text/plain": [
       "<Figure size 576x432 with 1 Axes>"
      ]
     },
     "metadata": {
      "needs_background": "light"
     },
     "output_type": "display_data"
    }
   ],
   "source": [
    "spline_pred = spline_res.get_prediction(transformer.transform(test_data))\n",
    "spline_sf = spline_pred.summary_frame()\n",
    "print(spline_sf.head())\n",
    "\n",
    "spline_lower = spline_sf['obs_ci_lower']\n",
    "spline_upper = spline_sf['obs_ci_upper']\n",
    "spline_mean = spline_sf['mean']\n",
    "\n",
    "# prediction intervals are where a prediction will probably fall within a certain probability\n",
    "\n",
    "# plot prediction intervals\n",
    "fig, ax = plt.subplots(figsize=(8, 6)) \n",
    "ax.plot(x, y, 'k.', label='Test Data')\n",
    "ax.plot(test_data, spline_mean, 'b', label='OLS')\n",
    "ax.plot(test_data, spline_lower, \"r--\")\n",
    "ax.plot(test_data, spline_upper, \"r--\")"
   ]
  },
  {
   "cell_type": "code",
   "execution_count": 225,
   "id": "9192c780-9081-4bf3-8ec8-36f00110b0a1",
   "metadata": {},
   "outputs": [],
   "source": [
    "# for smoothing splines, maybe use scipy\n",
    "# https://docs.scipy.org/doc/scipy/reference/generated/scipy.interpolate.UnivariateSpline.html\n",
    "# unfortunately idk how to actually do regression with this \n",
    "# meaning that i can only call this function and have this be my regression"
   ]
  },
  {
   "cell_type": "code",
   "execution_count": 226,
   "id": "ceb6f387-012a-461d-be93-fc2ad1180716",
   "metadata": {},
   "outputs": [],
   "source": [
    "# for GAMs, just do what we did before and mash variables together\n",
    "# doesn't seem very interesting, just annoying bashing"
   ]
  }
 ],
 "metadata": {
  "kernelspec": {
   "display_name": "Python 3 (ipykernel)",
   "language": "python",
   "name": "python3"
  },
  "language_info": {
   "codemirror_mode": {
    "name": "ipython",
    "version": 3
   },
   "file_extension": ".py",
   "mimetype": "text/x-python",
   "name": "python",
   "nbconvert_exporter": "python",
   "pygments_lexer": "ipython3",
   "version": "3.9.12"
  }
 },
 "nbformat": 4,
 "nbformat_minor": 5
}
