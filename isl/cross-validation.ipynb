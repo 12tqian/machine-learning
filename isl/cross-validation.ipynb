{
 "cells": [
  {
   "cell_type": "code",
   "execution_count": 90,
   "id": "2cca34f0-ad33-4a92-8c3d-567bf1384592",
   "metadata": {},
   "outputs": [],
   "source": [
    "import pandas as pd\n",
    "import statsmodels.api as sm\n",
    "import sklearn\n",
    "import numpy as np\n",
    "\n",
    "seed = 1\n",
    "np.random.seed(seed)"
   ]
  },
  {
   "cell_type": "code",
   "execution_count": 91,
   "id": "49f0b10b-7324-45b5-9323-6c64ee974b18",
   "metadata": {},
   "outputs": [],
   "source": [
    "df = pd.read_csv('/data/Auto.csv')\n",
    "df = df.replace('?', np.nan) # assume ? is na value\n",
    "df = df.dropna()"
   ]
  },
  {
   "cell_type": "code",
   "execution_count": 92,
   "id": "fc30acee-5e2d-4414-a960-d9fa28adf051",
   "metadata": {},
   "outputs": [],
   "source": [
    "x = df['horsepower'].astype('int')\n",
    "y = df['mpg']\n",
    "x = sm.add_constant(x)\n",
    "y = np.expand_dims(y, 1)\n",
    "reg = sm.OLS(y, x).fit()"
   ]
  },
  {
   "cell_type": "code",
   "execution_count": 93,
   "id": "e24bfe40-db04-4ac9-bddc-a2a439458db4",
   "metadata": {},
   "outputs": [],
   "source": [
    "from sklearn.model_selection import train_test_split\n",
    "\n",
    "train, test = train_test_split(df, test_size=0.5, random_state=seed) # split data"
   ]
  },
  {
   "cell_type": "code",
   "execution_count": 95,
   "id": "5d3ccd9a-dc87-4742-97ab-469eaed5e15d",
   "metadata": {},
   "outputs": [
    {
     "name": "stdout",
     "output_type": "stream",
     "text": [
      "degree 1: 24.80212062059356\n",
      "degree 2: 18.848292603275098\n",
      "degree 3: 18.80511135843041\n"
     ]
    }
   ],
   "source": [
    "from sklearn.preprocessing import PolynomialFeatures\n",
    "\n",
    "# use polynomial features and compare MSE\n",
    "\n",
    "def to_poly(dataset, degree=1):\n",
    "    xp = np.asarray(dataset['horsepower'].astype('int')).reshape((-1, 1))\n",
    "    polynomial_features = PolynomialFeatures(degree=degree)\n",
    "    xp = polynomial_features.fit_transform(xp)\n",
    "    return xp\n",
    "\n",
    "def train_poly(dataset, degree=1):\n",
    "    xp = to_poly(dataset, degree)\n",
    "    y = dataset['mpg']\n",
    "    return sm.OLS(y, xp).fit()\n",
    "\n",
    "def test_dataset(model, dataset, degree=1):\n",
    "    x = to_poly(dataset, degree)\n",
    "    y = dataset['mpg']\n",
    "    predict = model.predict(x)\n",
    "    residuals = y - predict\n",
    "    residuals = residuals * residuals\n",
    "    return residuals.mean()\n",
    "\n",
    "t1 = train_poly(train, 1)\n",
    "t2 = train_poly(train, 2)\n",
    "t3 = train_poly(train, 3)\n",
    "\n",
    "print('degree 1:', test_dataset(t1, test, 1))\n",
    "print('degree 2:', test_dataset(t2, test, 2))\n",
    "print('degree 3:', test_dataset(t3, test, 3))\n",
    "\n",
    "# not a significant difference between degree 2 and 3, we can look at other measures of complexity too"
   ]
  },
  {
   "cell_type": "code",
   "execution_count": 96,
   "id": "b797e3d2-bd56-442c-8b10-bc191ee1d8fa",
   "metadata": {},
   "outputs": [],
   "source": [
    "# cheesing with general sklearn cross validation, thanks stackoverflow\n",
    "# https://stackoverflow.com/questions/41045752/using-statsmodel-estimations-with-scikit-learn-cross-validation-is-it-possible \n",
    "\n",
    "from sklearn.base import BaseEstimator, RegressorMixin\n",
    "\n",
    "class SMWrapper(BaseEstimator, RegressorMixin):\n",
    "    def __init__(self, model_class, fit_intercept=True):\n",
    "        self.model_class = model_class\n",
    "        self.fit_intercept = fit_intercept\n",
    "    def fit(self, X, y):\n",
    "        if self.fit_intercept:\n",
    "            X = sm.add_constant(X)\n",
    "        self.model_ = self.model_class(y, X)\n",
    "        self.results_ = self.model_.fit()\n",
    "        return self\n",
    "    def predict(self, X):\n",
    "        if self.fit_intercept:\n",
    "            X = sm.add_constant(X)\n",
    "        return self.results_.predict(X)"
   ]
  },
  {
   "cell_type": "code",
   "execution_count": 109,
   "id": "2acd33c6-f306-41e6-9dde-df349a4be170",
   "metadata": {},
   "outputs": [
    {
     "name": "stdout",
     "output_type": "stream",
     "text": [
      "average error 10 fold cv for degree 1 poly: 0.19549935010445627\n"
     ]
    }
   ],
   "source": [
    "from sklearn.model_selection import cross_val_score\n",
    "\n",
    "scores = cross_val_score(SMWrapper(sm.OLS), x, y, cv=10, scoring='r2') # cross validation exmample\n",
    "avg_error = scores.mean()\n",
    "print('average error 10 fold cv for degree 1 poly:', avg_error)"
   ]
  }
 ],
 "metadata": {
  "kernelspec": {
   "display_name": "Python 3 (ipykernel)",
   "language": "python",
   "name": "python3"
  },
  "language_info": {
   "codemirror_mode": {
    "name": "ipython",
    "version": 3
   },
   "file_extension": ".py",
   "mimetype": "text/x-python",
   "name": "python",
   "nbconvert_exporter": "python",
   "pygments_lexer": "ipython3",
   "version": "3.9.12"
  }
 },
 "nbformat": 4,
 "nbformat_minor": 5
}
