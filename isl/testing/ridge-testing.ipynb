{
 "cells": [
  {
   "cell_type": "code",
   "execution_count": 176,
   "id": "2f73ac38-7e90-4e2e-9b1a-bee85e95f7df",
   "metadata": {},
   "outputs": [],
   "source": [
    "import pandas as pd\n",
    "import numpy as np\n",
    "import statsmodels.api as sm\n",
    "from sklearn.model_selection import train_test_split\n",
    "import matplotlib\n",
    "import matplotlib.pyplot as plt"
   ]
  },
  {
   "cell_type": "code",
   "execution_count": 177,
   "id": "b2887b59-7568-4f0a-8baf-a2dffb3782fc",
   "metadata": {},
   "outputs": [
    {
     "name": "stderr",
     "output_type": "stream",
     "text": [
      "<ipython-input-177-231beab2c1b3>:10: SettingWithCopyWarning: \n",
      "A value is trying to be set on a copy of a slice from a DataFrame.\n",
      "Try using .loc[row_indexer,col_indexer] = value instead\n",
      "\n",
      "See the caveats in the documentation: https://pandas.pydata.org/pandas-docs/stable/user_guide/indexing.html#returning-a-view-versus-a-copy\n",
      "  df.loc[:, [q]] = df[q].map({key: index for index, key in enumerate(vals)})\n",
      "<ipython-input-177-231beab2c1b3>:10: SettingWithCopyWarning: \n",
      "A value is trying to be set on a copy of a slice from a DataFrame.\n",
      "Try using .loc[row_indexer,col_indexer] = value instead\n",
      "\n",
      "See the caveats in the documentation: https://pandas.pydata.org/pandas-docs/stable/user_guide/indexing.html#returning-a-view-versus-a-copy\n",
      "  df.loc[:, [q]] = df[q].map({key: index for index, key in enumerate(vals)})\n",
      "<ipython-input-177-231beab2c1b3>:10: SettingWithCopyWarning: \n",
      "A value is trying to be set on a copy of a slice from a DataFrame.\n",
      "Try using .loc[row_indexer,col_indexer] = value instead\n",
      "\n",
      "See the caveats in the documentation: https://pandas.pydata.org/pandas-docs/stable/user_guide/indexing.html#returning-a-view-versus-a-copy\n",
      "  df.loc[:, [q]] = df[q].map({key: index for index, key in enumerate(vals)})\n"
     ]
    }
   ],
   "source": [
    "# preprocess data\n",
    "df = pd.read_csv('../data/Hitters.csv')\n",
    "df = df.replace('?', np.nan) # assume ? is na value\n",
    "full_df = df # df without dropped values, bad stuff should only in salary\n",
    "df = df.dropna()\n",
    "qual = ['League', 'Division', 'NewLeague']\n",
    "\n",
    "for q in qual:\n",
    "    vals = df[q].unique()\n",
    "    df.loc[:, [q]] = df[q].map({key: index for index, key in enumerate(vals)})"
   ]
  },
  {
   "cell_type": "code",
   "execution_count": 182,
   "id": "000ff958-7f91-4e2d-87d7-190ab53740f2",
   "metadata": {},
   "outputs": [],
   "source": [
    "# set the variables you want to use\n",
    "y = df['Salary']\n",
    "X = df.drop(['Salary'], axis=1).astype('float64')"
   ]
  },
  {
   "cell_type": "code",
   "execution_count": 183,
   "id": "42c8c2a6-4e2d-4fd4-a411-e700086e6551",
   "metadata": {},
   "outputs": [],
   "source": [
    "X_train, X_test, y_train, y_test = train_test_split(X, y, test_size=0.33, random_state=42)\n",
    "center = y_train.mean()\n",
    "y_train -= center"
   ]
  },
  {
   "cell_type": "code",
   "execution_count": 197,
   "id": "25560922-65bb-430b-a3bb-bde8104cf922",
   "metadata": {},
   "outputs": [
    {
     "name": "stdout",
     "output_type": "stream",
     "text": [
      "[-0.13685815 -0.01903905  0.00121452 -0.00754971 -0.00772053 -0.00988253\n",
      " -0.00363847  0.00445238  0.08798627  0.03650483  0.07462998  0.09402311\n",
      "  0.01070525 -0.00052687 -0.00014004  0.08721822 -0.06569858 -0.00687542\n",
      " -0.00061254]\n"
     ]
    }
   ],
   "source": [
    "N = 200\n",
    "\n",
    "penalties = np.linspace(0, 100000, N)\n",
    "\n",
    "corrs = np.zeros(N)\n",
    "coeffs = np.zeros(N)\n",
    "# bad_corrs = np.zeros(N)\n",
    "\n",
    "for i in range(N):\n",
    "    lam = penalties[i]\n",
    "    \n",
    "    model = sm.OLS(y_train, X_train).fit_regularized(alpha=lam, L1_wt=0)\n",
    "    pred = model.predict(X_test) + center\n",
    "    if i==N-1:print(model.params)\n",
    "    data = np.vstack((pred, y_test))\n",
    "    \n",
    "    # res = ((pred - pred.mean()) / pred.std()) * (y_test - y_test.mean()) / y_test.std()\n",
    "    # res = res.sum() / (pred.shape[0] - 1) # subtract one for sample corr\n",
    "    # bad_corrs[i] = res * res # testing to see what what corrcoefs does, adjusts for sampling\n",
    "\n",
    "    corr_mat = np.corrcoef(data)\n",
    "    corr = corr_mat[0, 1]\n",
    "    corrs[i] = corr \n",
    "    \n",
    "    # below i commented out wrong code\n",
    "    # ss_res = ((y_test - pred)**2).sum()\n",
    "    # ess + rss = tss only in OLS not regression \n",
    "    # ss_ess = ((pred - pred.mean())**2).sum()\n",
    "    # r2 = ss_ess / ss_tss\n",
    "    # below is not useful cause this isn't OLS, so r^2 is not equal to pearson correlation coeff^2\n",
    "    # ss_tss = ((y_test - y_test.mean())**2).sum()\n",
    "    # r2 = 1 - ss_res / ss_tss\n",
    "    # coeffs[i] = r2"
   ]
  },
  {
   "cell_type": "code",
   "execution_count": 198,
   "id": "572c57f8-ffd9-41fb-9c44-dbb9075c8605",
   "metadata": {},
   "outputs": [
    {
     "data": {
      "text/plain": [
       "[<matplotlib.lines.Line2D at 0x7feb30417a00>]"
      ]
     },
     "execution_count": 198,
     "metadata": {},
     "output_type": "execute_result"
    },
    {
     "data": {
      "image/png": "[encoded data removed]",
      "text/plain": [
       "<Figure size 432x288 with 1 Axes>"
      ]
     },
     "metadata": {
      "needs_background": "light"
     },
     "output_type": "display_data"
    }
   ],
   "source": [
    "plt.plot(penalties, corrs)"
   ]
  }
 ],
 "metadata": {
  "kernelspec": {
   "display_name": "Python 3",
   "language": "python",
   "name": "python3"
  },
  "language_info": {
   "codemirror_mode": {
    "name": "ipython",
    "version": 3
   },
   "file_extension": ".py",
   "mimetype": "text/x-python",
   "name": "python",
   "nbconvert_exporter": "python",
   "pygments_lexer": "ipython3",
   "version": "3.9.12"
  }
 },
 "nbformat": 4,
 "nbformat_minor": 5
}
