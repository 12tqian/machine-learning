{
 "cells": [
  {
   "cell_type": "code",
   "execution_count": 295,
   "id": "d8a8dc46-b59f-4f93-9dd7-5be2a44cba68",
   "metadata": {},
   "outputs": [],
   "source": [
    "import pandas as pd\n",
    "import numpy as np\n",
    "import statsmodels.api as sm"
   ]
  },
  {
   "cell_type": "code",
   "execution_count": 296,
   "id": "54609fa4-5df6-471f-937e-2014e0b272cf",
   "metadata": {},
   "outputs": [],
   "source": [
    "seed = 4\n",
    "np.random.seed(seed)"
   ]
  },
  {
   "cell_type": "code",
   "execution_count": 297,
   "id": "ea05fd48-7f45-4234-b4fe-7da451883125",
   "metadata": {},
   "outputs": [
    {
     "name": "stderr",
     "output_type": "stream",
     "text": [
      "/tmp/ipykernel_10846/4072901791.py:10: SettingWithCopyWarning: \n",
      "A value is trying to be set on a copy of a slice from a DataFrame.\n",
      "Try using .loc[row_indexer,col_indexer] = value instead\n",
      "\n",
      "See the caveats in the documentation: https://pandas.pydata.org/pandas-docs/stable/user_guide/indexing.html#returning-a-view-versus-a-copy\n",
      "  df.loc[:, [q]] = df[q].map({key: index for index, key in enumerate(vals)})\n",
      "/tmp/ipykernel_10846/4072901791.py:10: SettingWithCopyWarning: \n",
      "A value is trying to be set on a copy of a slice from a DataFrame.\n",
      "Try using .loc[row_indexer,col_indexer] = value instead\n",
      "\n",
      "See the caveats in the documentation: https://pandas.pydata.org/pandas-docs/stable/user_guide/indexing.html#returning-a-view-versus-a-copy\n",
      "  df.loc[:, [q]] = df[q].map({key: index for index, key in enumerate(vals)})\n",
      "/tmp/ipykernel_10846/4072901791.py:10: SettingWithCopyWarning: \n",
      "A value is trying to be set on a copy of a slice from a DataFrame.\n",
      "Try using .loc[row_indexer,col_indexer] = value instead\n",
      "\n",
      "See the caveats in the documentation: https://pandas.pydata.org/pandas-docs/stable/user_guide/indexing.html#returning-a-view-versus-a-copy\n",
      "  df.loc[:, [q]] = df[q].map({key: index for index, key in enumerate(vals)})\n"
     ]
    }
   ],
   "source": [
    "# preprocess data\n",
    "df = pd.read_csv('data/Hitters.csv')\n",
    "df = df.replace('?', np.nan) # assume ? is na value\n",
    "full_df = df # df without dropped values, bad stuff should only in salary\n",
    "df = df.dropna()\n",
    "qual = ['League', 'Division', 'NewLeague']\n",
    "\n",
    "for q in qual:\n",
    "    vals = df[q].unique()\n",
    "    df.loc[:, [q]] = df[q].map({key: index for index, key in enumerate(vals)})"
   ]
  },
  {
   "cell_type": "code",
   "execution_count": 298,
   "id": "629d209f-6834-4d6c-93d9-2d569ab06ab2",
   "metadata": {},
   "outputs": [],
   "source": [
    "# set the variables you want to use\n",
    "y = df['Salary']\n",
    "x = df.drop(['Salary'], axis=1).astype('float64')"
   ]
  },
  {
   "cell_type": "code",
   "execution_count": 299,
   "id": "42f78f2d-98b9-4290-94b1-7fb98d5b49c5",
   "metadata": {},
   "outputs": [],
   "source": [
    "# train masks\n",
    "train_mask = np.full(len(x), True) \n",
    "train_mask[len(x) // 2:len(x)] = False\n",
    "np.random.shuffle(train_mask)\n",
    "test_mask = np.logical_not(train_mask)"
   ]
  },
  {
   "cell_type": "code",
   "execution_count": 300,
   "id": "57686528-86f3-423c-8662-4658165a55c3",
   "metadata": {},
   "outputs": [],
   "source": [
    "# datasets\n",
    "x_train = x[train_mask] \n",
    "y_train = y[train_mask]\n",
    "x_test = x[test_mask]\n",
    "y_test = y[test_mask]"
   ]
  },
  {
   "cell_type": "code",
   "execution_count": 349,
   "id": "d707876c-3d37-4de5-9ea4-f4cd7feb0b71",
   "metadata": {},
   "outputs": [],
   "source": [
    "# PCR\n",
    "from sklearn.decomposition import PCA\n",
    "from sklearn.linear_model import LinearRegression\n",
    "from sklearn.metrics import mean_squared_error\n",
    "from sklearn import model_selection\n",
    "from sklearn.model_selection import train_test_split\n",
    "from sklearn.model_selection import RepeatedKFold\n",
    "from sklearn.preprocessing import scale\n",
    "from sklearn.metrics import explained_variance_score"
   ]
  },
  {
   "cell_type": "code",
   "execution_count": 302,
   "id": "7dd406a4-494b-436b-af03-c31ef71ffd27",
   "metadata": {},
   "outputs": [],
   "source": [
    "# sadge i have to implement this myself doesn't seem like there's a library online\n",
    "pca = PCA() # this will compute the n x p', where p' <= p and is the new number of vars we use\n",
    "x_reduced = pca.fit_transform(scale(x_train)) # scaling x, because they are of different units\n",
    "\n",
    "cv = RepeatedKFold(n_splits=10, n_repeats=1, random_state=1) # cross validation method, 10 splits, repeat this 1 time\n",
    "reg = LinearRegression()\n",
    "mse = [] # stores the list of mean squared errors"
   ]
  },
  {
   "cell_type": "code",
   "execution_count": 303,
   "id": "15658e19-fed9-4c61-b2fc-83d62d58b4f9",
   "metadata": {},
   "outputs": [],
   "source": [
    "# scores like big stuff, so negative mse\n",
    "intercept_score = -1 * model_selection.cross_val_score(\n",
    "    reg,\n",
    "    np.ones((len(x_reduced), 1)),\n",
    "    y_train, \n",
    "    cv=cv, \n",
    "    scoring='neg_mean_squared_error').mean()\n",
    "\n",
    "mse.append(intercept_score) # because linear regression usually appends the constant, so we gotta do this separately\n",
    "\n",
    "for i in range(1, x_reduced.shape[1] + 1):\n",
    "    score = -1 * model_selection.cross_val_score(\n",
    "        reg,\n",
    "        x_reduced[:, :i], # data is prescaled already, and LinearRegression does not scale it\n",
    "        y_train, \n",
    "        cv=cv, \n",
    "        scoring='neg_mean_squared_error').mean()\n",
    "    mse.append(score)"
   ]
  },
  {
   "cell_type": "code",
   "execution_count": 304,
   "id": "50382f3f-d10d-4163-8aea-18435a2029b4",
   "metadata": {},
   "outputs": [],
   "source": [
    "import matplotlib as mpl\n",
    "import matplotlib.pyplot as plt"
   ]
  },
  {
   "cell_type": "code",
   "execution_count": 350,
   "id": "d861c559-f827-4e8e-a5b2-14114e8a1bda",
   "metadata": {},
   "outputs": [
    {
     "name": "stdout",
     "output_type": "stream",
     "text": [
      "explained variance percentages:\n",
      "[0.38872044 0.60803432 0.71111221 0.79645065 0.84911236 0.89664366\n",
      " 0.92747182 0.95026637 0.9638077  0.97367601 0.98154826 0.98804431\n",
      " 0.99318913 0.99569981 0.99750513 0.99886482 0.99971492 0.99994069\n",
      " 1.        ]\n",
      "explained variance percentages: 0.45481752658052654\n"
     ]
    }
   ],
   "source": [
    "exp_var = np.array(pca.explained_variance_ratio_)\n",
    "print(f'explained variance percentages:\\n{exp_var.cumsum()}') \n",
    "\n",
    "exp_var_y = explained_variance_score(y_test, pred)\n",
    "print(f'explained variance percentages: {exp_var_y}') "
   ]
  },
  {
   "cell_type": "code",
   "execution_count": 306,
   "id": "988c0243-0f8a-4d32-869f-2680c23e8c71",
   "metadata": {},
   "outputs": [
    {
     "data": {
      "image/png": "[encoded data removed]",
      "text/plain": [
       "<Figure size 432x288 with 1 Axes>"
      ]
     },
     "metadata": {
      "needs_background": "light"
     },
     "output_type": "display_data"
    },
    {
     "name": "stdout",
     "output_type": "stream",
     "text": [
      "best model errors uses 10 parameters and achieves error 391.2562615640673\n"
     ]
    }
   ],
   "source": [
    "errors = np.array(mse) \n",
    "errors = np.sqrt(errors)\n",
    "plt.plot(errors)\n",
    "plt.xlabel('Number of Principal Components')\n",
    "plt.ylabel('MSE')\n",
    "plt.show()\n",
    "print(f'best model errors uses {errors.argmin()} parameters and achieves error {errors.min()}') # 18 predictors is best \n",
    "# but this stuff is so jank with how much the random seed changes it :/"
   ]
  },
  {
   "cell_type": "code",
   "execution_count": 307,
   "id": "8fa77fed-210c-4f1d-b997-21210a6c2030",
   "metadata": {},
   "outputs": [
    {
     "name": "stdout",
     "output_type": "stream",
     "text": [
      "test error: 319.2450447218978\n"
     ]
    }
   ],
   "source": [
    "# let's try with less parameters and see mse we achieve\n",
    "parameters = 7\n",
    "x_reduced_test = pca.transform(scale(x_test))[:, :parameters]\n",
    "\n",
    "# train PCR model on training data \n",
    "reg = LinearRegression()\n",
    "reg.fit(x_reduced[:, :parameters], y_train) # 7 parameters\n",
    "\n",
    "# calculate RMSE\n",
    "pred = reg.predict(x_reduced_test)\n",
    "error = np.sqrt(mean_squared_error(y_test, pred))\n",
    "print(f'test error: {error}')\n"
   ]
  },
  {
   "cell_type": "code",
   "execution_count": 308,
   "id": "328c2001-879c-410b-9804-13081531d338",
   "metadata": {},
   "outputs": [],
   "source": [
    "# now for pls regression\n",
    "from sklearn.cross_decomposition import PLSRegression"
   ]
  },
  {
   "cell_type": "code",
   "execution_count": 309,
   "id": "a4356518-bad3-4ae8-98a9-67aad5dab0f3",
   "metadata": {},
   "outputs": [],
   "source": [
    "import warnings\n",
    "warnings.filterwarnings('default')"
   ]
  },
  {
   "cell_type": "code",
   "execution_count": 339,
   "id": "3a4da11e-93db-4e6b-b8ad-05f39568afac",
   "metadata": {},
   "outputs": [],
   "source": [
    "mse = []\n",
    "mse.append(intercept_score) # idk why, but PLS doesn't work with only intercept\n",
    "\n",
    "for i in np.arange(1, 20): # 19 components in PCA, so this makes sense\n",
    "    pls = PLSRegression(n_components=i)\n",
    "    score = -1 * model_selection.cross_val_score(\n",
    "        pls, \n",
    "        x_train, \n",
    "        y_train, \n",
    "        cv=cv,\n",
    "        scoring='neg_mean_squared_error').mean()\n",
    "    mse.append(score)"
   ]
  },
  {
   "cell_type": "code",
   "execution_count": 340,
   "id": "67991913-6cba-418a-88c5-261f0bfc0b37",
   "metadata": {},
   "outputs": [
    {
     "name": "stdout",
     "output_type": "stream",
     "text": [
      "best model errors uses 1 parameters and achieves error 395.1075480384927\n"
     ]
    },
    {
     "data": {
      "image/png": "[encoded data removed]",
      "text/plain": [
       "<Figure size 432x288 with 1 Axes>"
      ]
     },
     "metadata": {
      "needs_background": "light"
     },
     "output_type": "display_data"
    }
   ],
   "source": [
    "errors = np.sqrt(np.array(mse))\n",
    "plt.plot(errors)\n",
    "plt.xlabel('Number of Components')\n",
    "plt.ylabel('MSE')\n",
    "print(f'best model errors uses {errors.argmin()} parameters and achieves error {errors.min()}') # 18 predictors is best"
   ]
  },
  {
   "cell_type": "code",
   "execution_count": 341,
   "id": "122e4a35-e6e5-4012-bde2-06e2b2699e8d",
   "metadata": {},
   "outputs": [
    {
     "name": "stdout",
     "output_type": "stream",
     "text": [
      "test error 312.56846591998453\n"
     ]
    }
   ],
   "source": [
    "pls = PLSRegression(n_components=2) # scale is true\n",
    "pls.fit(x_train, y_train) # we don't need to do anything to the data before hand\n",
    "residuals = y_test - pls.predict(x_test).reshape((-1,)) # the same scaling is applied to x_test\n",
    "error = np.sqrt(np.square(residuals).mean())\n",
    "print(f'test error {error}')"
   ]
  },
  {
   "cell_type": "code",
   "execution_count": 348,
   "id": "45caebbd-2209-4096-96d3-877b0fdc8eff",
   "metadata": {},
   "outputs": [
    {
     "name": "stdout",
     "output_type": "stream",
     "text": [
      "variance explained: 0.46270659803370184\n"
     ]
    }
   ],
   "source": [
    "exp_var = explained_variance_score(y_test, pls.predict(x_test).reshape((-1,)))\n",
    "print(f'variance explained: {exp_var}') # explains more variance than PCR, because that's what PLS targets, it includes y in var calculations"
   ]
  },
  {
   "cell_type": "code",
   "execution_count": null,
   "id": "aaf5d1e6-0091-4858-98ba-95c2266574c9",
   "metadata": {},
   "outputs": [],
   "source": []
  }
 ],
 "metadata": {
  "kernelspec": {
   "display_name": "Python 3 (ipykernel)",
   "language": "python",
   "name": "python3"
  },
  "language_info": {
   "codemirror_mode": {
    "name": "ipython",
    "version": 3
   },
   "file_extension": ".py",
   "mimetype": "text/x-python",
   "name": "python",
   "nbconvert_exporter": "python",
   "pygments_lexer": "ipython3",
   "version": "3.9.12"
  }
 },
 "nbformat": 4,
 "nbformat_minor": 5
}
