{
 "cells": [
  {
   "cell_type": "code",
   "execution_count": 5,
   "id": "0b311970-9485-44f6-bf61-f3ef699f8098",
   "metadata": {},
   "outputs": [],
   "source": [
    "import pandas as pd\n",
    "import numpy as np\n",
    "import statsmodels.api as sm"
   ]
  },
  {
   "cell_type": "code",
   "execution_count": 4,
   "id": "8530038f-31eb-42a5-b6f0-06ce4acf078e",
   "metadata": {},
   "outputs": [
    {
     "name": "stderr",
     "output_type": "stream",
     "text": [
      "/tmp/ipykernel_10754/4072901791.py:10: SettingWithCopyWarning: \n",
      "A value is trying to be set on a copy of a slice from a DataFrame.\n",
      "Try using .loc[row_indexer,col_indexer] = value instead\n",
      "\n",
      "See the caveats in the documentation: https://pandas.pydata.org/pandas-docs/stable/user_guide/indexing.html#returning-a-view-versus-a-copy\n",
      "  df.loc[:, [q]] = df[q].map({key: index for index, key in enumerate(vals)})\n",
      "/tmp/ipykernel_10754/4072901791.py:10: SettingWithCopyWarning: \n",
      "A value is trying to be set on a copy of a slice from a DataFrame.\n",
      "Try using .loc[row_indexer,col_indexer] = value instead\n",
      "\n",
      "See the caveats in the documentation: https://pandas.pydata.org/pandas-docs/stable/user_guide/indexing.html#returning-a-view-versus-a-copy\n",
      "  df.loc[:, [q]] = df[q].map({key: index for index, key in enumerate(vals)})\n",
      "/tmp/ipykernel_10754/4072901791.py:10: SettingWithCopyWarning: \n",
      "A value is trying to be set on a copy of a slice from a DataFrame.\n",
      "Try using .loc[row_indexer,col_indexer] = value instead\n",
      "\n",
      "See the caveats in the documentation: https://pandas.pydata.org/pandas-docs/stable/user_guide/indexing.html#returning-a-view-versus-a-copy\n",
      "  df.loc[:, [q]] = df[q].map({key: index for index, key in enumerate(vals)})\n"
     ]
    }
   ],
   "source": [
    "# preprocess data\n",
    "df = pd.read_csv('data/Hitters.csv')\n",
    "df = df.replace('?', np.nan) # assume ? is na value\n",
    "full_df = df # df without dropped values, bad stuff should only in salary\n",
    "df = df.dropna()\n",
    "qual = ['League', 'Division', 'NewLeague']\n",
    "\n",
    "for q in qual:\n",
    "    vals = df[q].unique()\n",
    "    df.loc[:, [q]] = df[q].map({key: index for index, key in enumerate(vals)})"
   ]
  },
  {
   "cell_type": "code",
   "execution_count": 6,
   "id": "732b21c8-5476-46ae-a25b-3ee8fbba423a",
   "metadata": {},
   "outputs": [],
   "source": [
    "# set the variables you want to use\n",
    "y = df['Salary']\n",
    "x = df.drop(['Salary'], axis=1).astype('float64')"
   ]
  },
  {
   "cell_type": "code",
   "execution_count": 19,
   "id": "dbb263a2-28ab-4008-88f5-51fc354d837d",
   "metadata": {},
   "outputs": [
    {
     "name": "stdout",
     "output_type": "stream",
     "text": [
      "[ 0.16497546 -1.08007087  4.10583465 -0.20081596  0.38377041  0.44696039\n",
      "  3.97126525  0.5825625  -0.24307789  0.50955206  0.13978152  1.05915624\n",
      "  0.6183222  -0.45961087 -0.14796235  0.64501469  0.29821782  0.26785427\n",
      " -0.71376067 -0.07277529]\n",
      "[ 0.07567471 -0.74458579  3.04095991 -0.14805442  0.74115174  0.42870343\n",
      "  3.07325825  0.28663353 -0.27725669  0.64601019  0.14615218  0.95998488\n",
      "  0.61332035 -0.3445154  -0.07786912  0.32567915  0.2969228   0.25166532\n",
      " -0.50559328 -0.04019197]\n",
      "const        0.000000\n",
      "AtBat       -0.586374\n",
      "Hits         3.036334\n",
      "HmRun        0.000000\n",
      "Runs         0.000000\n",
      "RBI          0.000000\n",
      "Walks        4.009756\n",
      "Years       -2.207389\n",
      "CAtBat       0.027019\n",
      "CHits        0.263785\n",
      "CHmRun       1.414970\n",
      "CRuns        0.044293\n",
      "CRBI        -0.091546\n",
      "CWalks      -0.431356\n",
      "League       0.000000\n",
      "Division     0.000000\n",
      "PutOuts      0.266344\n",
      "Assists      0.084109\n",
      "Errors      -2.113502\n",
      "NewLeague    0.000000\n",
      "dtype: float64\n",
      "const        0.000000\n",
      "AtBat       -0.592733\n",
      "Hits         2.990068\n",
      "HmRun        0.000000\n",
      "Runs         0.000000\n",
      "RBI          0.000000\n",
      "Walks        4.105915\n",
      "Years        0.000000\n",
      "CAtBat       0.018376\n",
      "CHits        0.270491\n",
      "CHmRun       1.312769\n",
      "CRuns        0.000000\n",
      "CRBI        -0.010402\n",
      "CWalks      -0.427368\n",
      "League       0.000000\n",
      "Division     0.000000\n",
      "PutOuts      0.259426\n",
      "Assists      0.059892\n",
      "Errors      -1.266439\n",
      "NewLeague    0.000000\n",
      "dtype: float64\n"
     ]
    }
   ],
   "source": [
    "data = sm.add_constant(x)\n",
    "\n",
    "# ridge regression\n",
    "model1 = sm.OLS(y, data).fit_regularized(alpha=50, L1_wt=0)\n",
    "model2 = sm.OLS(y, data).fit_regularized(alpha=100, L1_wt=0)\n",
    "\n",
    "# note that the second model's weights are much smaller\n",
    "print(model1.params)\n",
    "print(model2.params) \n",
    "\n",
    "# we could do cross validation, but it's not very enlightening and boring to implement\n",
    "\n",
    "# lasso regression\n",
    "model3 = sm.OLS(y, data).fit_regularized(alpha=50, L1_wt=1)\n",
    "model4= sm.OLS(y, data).fit_regularized(alpha=100, L1_wt=1)\n",
    "\n",
    "# note that the second model's weights are much smaller\n",
    "print(model3.params)\n",
    "print(model4.params) "
   ]
  },
  {
   "cell_type": "code",
   "execution_count": null,
   "id": "b8696d3f-8af2-4395-a532-3676c491f46a",
   "metadata": {},
   "outputs": [],
   "source": []
  }
 ],
 "metadata": {
  "kernelspec": {
   "display_name": "Python 3 (ipykernel)",
   "language": "python",
   "name": "python3"
  },
  "language_info": {
   "codemirror_mode": {
    "name": "ipython",
    "version": 3
   },
   "file_extension": ".py",
   "mimetype": "text/x-python",
   "name": "python",
   "nbconvert_exporter": "python",
   "pygments_lexer": "ipython3",
   "version": "3.9.12"
  }
 },
 "nbformat": 4,
 "nbformat_minor": 5
}
