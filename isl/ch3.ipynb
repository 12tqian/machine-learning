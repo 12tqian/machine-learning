{
 "cells": [
  {
   "cell_type": "code",
   "execution_count": 76,
   "id": "dddc7d5e-0a74-483c-9d3b-b7388fccec69",
   "metadata": {},
   "outputs": [],
   "source": [
    "import pandas as pd\n",
    "import os\n",
    "import numpy as np"
   ]
  },
  {
   "cell_type": "code",
   "execution_count": 12,
   "id": "90b7353c-45df-433a-a888-aba2732990b8",
   "metadata": {},
   "outputs": [
    {
     "data": {
      "text/html": [
       "<div>\n",
       "<style scoped>\n",
       "    .dataframe tbody tr th:only-of-type {\n",
       "        vertical-align: middle;\n",
       "    }\n",
       "\n",
       "    .dataframe tbody tr th {\n",
       "        vertical-align: top;\n",
       "    }\n",
       "\n",
       "    .dataframe thead th {\n",
       "        text-align: right;\n",
       "    }\n",
       "</style>\n",
       "<table border=\"1\" class=\"dataframe\">\n",
       "  <thead>\n",
       "    <tr style=\"text-align: right;\">\n",
       "      <th></th>\n",
       "      <th>Unnamed: 0</th>\n",
       "      <th>crim</th>\n",
       "      <th>zn</th>\n",
       "      <th>indus</th>\n",
       "      <th>chas</th>\n",
       "      <th>nox</th>\n",
       "      <th>rm</th>\n",
       "      <th>age</th>\n",
       "      <th>dis</th>\n",
       "      <th>rad</th>\n",
       "      <th>tax</th>\n",
       "      <th>ptratio</th>\n",
       "      <th>lstat</th>\n",
       "      <th>medv</th>\n",
       "    </tr>\n",
       "  </thead>\n",
       "  <tbody>\n",
       "    <tr>\n",
       "      <th>0</th>\n",
       "      <td>1</td>\n",
       "      <td>0.00632</td>\n",
       "      <td>18.0</td>\n",
       "      <td>2.31</td>\n",
       "      <td>0</td>\n",
       "      <td>0.538</td>\n",
       "      <td>6.575</td>\n",
       "      <td>65.2</td>\n",
       "      <td>4.0900</td>\n",
       "      <td>1</td>\n",
       "      <td>296</td>\n",
       "      <td>15.3</td>\n",
       "      <td>4.98</td>\n",
       "      <td>24.0</td>\n",
       "    </tr>\n",
       "    <tr>\n",
       "      <th>1</th>\n",
       "      <td>2</td>\n",
       "      <td>0.02731</td>\n",
       "      <td>0.0</td>\n",
       "      <td>7.07</td>\n",
       "      <td>0</td>\n",
       "      <td>0.469</td>\n",
       "      <td>6.421</td>\n",
       "      <td>78.9</td>\n",
       "      <td>4.9671</td>\n",
       "      <td>2</td>\n",
       "      <td>242</td>\n",
       "      <td>17.8</td>\n",
       "      <td>9.14</td>\n",
       "      <td>21.6</td>\n",
       "    </tr>\n",
       "    <tr>\n",
       "      <th>2</th>\n",
       "      <td>3</td>\n",
       "      <td>0.02729</td>\n",
       "      <td>0.0</td>\n",
       "      <td>7.07</td>\n",
       "      <td>0</td>\n",
       "      <td>0.469</td>\n",
       "      <td>7.185</td>\n",
       "      <td>61.1</td>\n",
       "      <td>4.9671</td>\n",
       "      <td>2</td>\n",
       "      <td>242</td>\n",
       "      <td>17.8</td>\n",
       "      <td>4.03</td>\n",
       "      <td>34.7</td>\n",
       "    </tr>\n",
       "    <tr>\n",
       "      <th>3</th>\n",
       "      <td>4</td>\n",
       "      <td>0.03237</td>\n",
       "      <td>0.0</td>\n",
       "      <td>2.18</td>\n",
       "      <td>0</td>\n",
       "      <td>0.458</td>\n",
       "      <td>6.998</td>\n",
       "      <td>45.8</td>\n",
       "      <td>6.0622</td>\n",
       "      <td>3</td>\n",
       "      <td>222</td>\n",
       "      <td>18.7</td>\n",
       "      <td>2.94</td>\n",
       "      <td>33.4</td>\n",
       "    </tr>\n",
       "    <tr>\n",
       "      <th>4</th>\n",
       "      <td>5</td>\n",
       "      <td>0.06905</td>\n",
       "      <td>0.0</td>\n",
       "      <td>2.18</td>\n",
       "      <td>0</td>\n",
       "      <td>0.458</td>\n",
       "      <td>7.147</td>\n",
       "      <td>54.2</td>\n",
       "      <td>6.0622</td>\n",
       "      <td>3</td>\n",
       "      <td>222</td>\n",
       "      <td>18.7</td>\n",
       "      <td>5.33</td>\n",
       "      <td>36.2</td>\n",
       "    </tr>\n",
       "  </tbody>\n",
       "</table>\n",
       "</div>"
      ],
      "text/plain": [
       "   Unnamed: 0     crim    zn  indus  chas    nox     rm   age     dis  rad  \\\n",
       "0           1  0.00632  18.0   2.31     0  0.538  6.575  65.2  4.0900    1   \n",
       "1           2  0.02731   0.0   7.07     0  0.469  6.421  78.9  4.9671    2   \n",
       "2           3  0.02729   0.0   7.07     0  0.469  7.185  61.1  4.9671    2   \n",
       "3           4  0.03237   0.0   2.18     0  0.458  6.998  45.8  6.0622    3   \n",
       "4           5  0.06905   0.0   2.18     0  0.458  7.147  54.2  6.0622    3   \n",
       "\n",
       "   tax  ptratio  lstat  medv  \n",
       "0  296     15.3   4.98  24.0  \n",
       "1  242     17.8   9.14  21.6  \n",
       "2  242     17.8   4.03  34.7  \n",
       "3  222     18.7   2.94  33.4  \n",
       "4  222     18.7   5.33  36.2  "
      ]
     },
     "execution_count": 12,
     "metadata": {},
     "output_type": "execute_result"
    }
   ],
   "source": [
    "df = pd.read_csv('data/Boston.csv')\n",
    "df.head()"
   ]
  },
  {
   "cell_type": "code",
   "execution_count": 70,
   "id": "034fc34d-dd99-4cd3-82f7-09c1fe560b89",
   "metadata": {},
   "outputs": [],
   "source": [
    "from sklearn.linear_model import LinearRegression\n",
    "\n",
    "# reshape data\n",
    "y = df['medv'].to_numpy().reshape((-1, 1)) \n",
    "x = df['lstat'].to_numpy().reshape((-1, 1))\n",
    "\n",
    "sk_reg = LinearRegression().fit(x, y)"
   ]
  },
  {
   "cell_type": "code",
   "execution_count": 71,
   "id": "d455c238-0f5a-4c5c-92ce-18abb7f15eb2",
   "metadata": {},
   "outputs": [
    {
     "name": "stdout",
     "output_type": "stream",
     "text": [
      "[[-0.95004935]] [34.55384088]\n",
      "[[34.55384088]]\n"
     ]
    }
   ],
   "source": [
    "print(sk_reg.coef_, sk_reg.intercept_) # format of regression\n",
    "print(sk_reg.predict(np.array([[0]]))) # prediction"
   ]
  },
  {
   "cell_type": "code",
   "execution_count": 72,
   "id": "299d790d-7acd-4803-b0d7-b0b1ce94b909",
   "metadata": {},
   "outputs": [
    {
     "name": "stdout",
     "output_type": "stream",
     "text": [
      "{'copy_X': True, 'fit_intercept': True, 'n_jobs': None, 'normalize': 'deprecated', 'positive': False}\n",
      "0.5441462975864799\n"
     ]
    }
   ],
   "source": [
    "print(sk_reg.get_params(deep=True)) # list of params\n",
    "print(sk_reg.score(x, y)) # R^2 value"
   ]
  },
  {
   "cell_type": "code",
   "execution_count": 73,
   "id": "8d74d36a-21de-42b6-96cd-f91438697433",
   "metadata": {},
   "outputs": [],
   "source": [
    "import matplotlib as mpl\n",
    "import matplotlib.pyplot as plt"
   ]
  },
  {
   "cell_type": "code",
   "execution_count": 136,
   "id": "42d11e64-da0d-430e-b3d3-c63755594d56",
   "metadata": {},
   "outputs": [
    {
     "data": {
      "text/plain": [
       "[<matplotlib.lines.Line2D at 0x7f30a588c400>]"
      ]
     },
     "execution_count": 136,
     "metadata": {},
     "output_type": "execute_result"
    },
    {
     "data": {
      "image/png": "[encoded data removed]",
      "text/plain": [
       "<Figure size 720x432 with 1 Axes>"
      ]
     },
     "metadata": {
      "needs_background": "light"
     },
     "output_type": "display_data"
    }
   ],
   "source": [
    "plt.figure(figsize=(10, 6))\n",
    "plt.scatter(x, y)\n",
    "plt.plot(x, sk_reg.predict(x), color='k') # plot predictions"
   ]
  },
  {
   "cell_type": "code",
   "execution_count": 135,
   "id": "dd2cf445-6258-4f59-b705-c95b6d9afc8f",
   "metadata": {},
   "outputs": [
    {
     "name": "stdout",
     "output_type": "stream",
     "text": [
      "          residuals\n",
      "count  5.060000e+02\n",
      "mean  -8.593916e-15\n",
      "std    6.209603e+00\n",
      "min   -1.516745e+01\n",
      "25%   -3.989612e+00\n",
      "50%   -1.318186e+00\n",
      "75%    2.033701e+00\n",
      "max    2.450013e+01\n"
     ]
    }
   ],
   "source": [
    "residual = y - sk_reg.predict(x)\n",
    "residual_df = pd.DataFrame(residual)\n",
    "residual_df.columns = ['residuals']\n",
    "print(residual_df.describe())"
   ]
  },
  {
   "cell_type": "code",
   "execution_count": 65,
   "id": "44971d51-0969-49df-b85c-0b736f06b741",
   "metadata": {},
   "outputs": [],
   "source": [
    "import statsmodels.api as sm"
   ]
  },
  {
   "cell_type": "code",
   "execution_count": 144,
   "id": "ac9f6e67-5115-44c9-8a24-d21bda392bcd",
   "metadata": {},
   "outputs": [
    {
     "name": "stdout",
     "output_type": "stream",
     "text": [
      "                            OLS Regression Results                            \n",
      "==============================================================================\n",
      "Dep. Variable:                      y   R-squared:                       0.544\n",
      "Model:                            OLS   Adj. R-squared:                  0.543\n",
      "Method:                 Least Squares   F-statistic:                     601.6\n",
      "Date:                Sun, 17 Jul 2022   Prob (F-statistic):           5.08e-88\n",
      "Time:                        19:24:16   Log-Likelihood:                -1641.5\n",
      "No. Observations:                 506   AIC:                             3287.\n",
      "Df Residuals:                     504   BIC:                             3295.\n",
      "Df Model:                           1                                         \n",
      "Covariance Type:            nonrobust                                         \n",
      "==============================================================================\n",
      "                 coef    std err          t      P>|t|      [0.025      0.975]\n",
      "------------------------------------------------------------------------------\n",
      "const         34.5538      0.563     61.415      0.000      33.448      35.659\n",
      "x1            -0.9500      0.039    -24.528      0.000      -1.026      -0.874\n",
      "==============================================================================\n",
      "Omnibus:                      137.043   Durbin-Watson:                   0.892\n",
      "Prob(Omnibus):                  0.000   Jarque-Bera (JB):              291.373\n",
      "Skew:                           1.453   Prob(JB):                     5.36e-64\n",
      "Kurtosis:                       5.319   Cond. No.                         29.7\n",
      "==============================================================================\n",
      "\n",
      "Notes:\n",
      "[1] Standard Errors assume that the covariance matrix of the errors is correctly specified.\n"
     ]
    }
   ],
   "source": [
    "x_with_intercept = np.hstack((np.ones_like(x), x)) # sm.add_constant(x) also works\n",
    "sm_reg = sm.OLS(y, x_with_intercept)\n",
    "results = sm_reg.fit()\n",
    "print(results.summary())\n",
    "# notes on these results\n",
    "# degrees of freedom: n - p - 1, p = 1 in this case\n",
    "# adj. R-squared, you adjust by degrees of freedom when dividing RSS over TSS\n",
    "# omnibus, tests all the statistics at once\n",
    "# skew is third moment, kurtosis is second moment\n",
    "# cond. no: condition number, which talks about multicollinearity (matrix is close to singular if this is high)\n",
    "# durbin-watson and jarque-bera are probably unnecessary to know about\n",
    "# AIC: estimate for test error curve\n",
    "# BIC: another estimate for test error, but using Bayesian approach, lowest BIC means highest posterior probability\n",
    "# BIC penalizes more complex models because of log N in front of degrees of freedom term\n",
    "# F statistic comes from F distribution, which models ratio of two chi-squared distributions, but not fully sure what this one means\n",
    "# the [0.025, 0.975] is just a 95% confidence interval"
   ]
  },
  {
   "cell_type": "code",
   "execution_count": 142,
   "id": "fba87e09-71b5-462a-aad2-6c793b7726ba",
   "metadata": {},
   "outputs": [
    {
     "name": "stdout",
     "output_type": "stream",
     "text": [
      "<F test: F=3625.5862108441324, p=6.84617149024746e-300, df_denom=504, df_num=2>\n",
      "<F test: F=3625.5862108441142, p=6.846171490255244e-300, df_denom=504, df_num=2>\n"
     ]
    }
   ],
   "source": [
    "identity = np.identity(len(results.params))\n",
    "print(results.f_test(identity)) # testing F-test for R x beta = 0 if we do results.f_test(R)\n",
    "print(results.f_test('x1 = const = 0')) # symbolic F-test\n",
    "# Here, we see that the intercept-only model is very terrible, the null hypothesis has a tiny p-value"
   ]
  },
  {
   "cell_type": "code",
   "execution_count": 143,
   "id": "7ece4284-99ac-4a6a-8ac7-3d3cc116818c",
   "metadata": {},
   "outputs": [
    {
     "data": {
      "text/plain": [
       "[<matplotlib.lines.Line2D at 0x7f30a50146a0>]"
      ]
     },
     "execution_count": 143,
     "metadata": {},
     "output_type": "execute_result"
    },
    {
     "data": {
      "image/png": "[encoded data removed]",
      "text/plain": [
       "<Figure size 576x432 with 1 Axes>"
      ]
     },
     "metadata": {
      "needs_background": "light"
     },
     "output_type": "display_data"
    }
   ],
   "source": [
    "pred = results.get_prediction()\n",
    "pred_summary = pred.summary_frame() # summary of the predictions\n",
    "lower = pred_summary['obs_ci_lower']\n",
    "upper = pred_summary['obs_ci_upper']\n",
    "\n",
    "# prediction intervals are where a prediction will probably fall within a certain probability\n",
    "\n",
    "# plot prediction intervals\n",
    "fig, ax = plt.subplots(figsize=(8, 6)) \n",
    "ax.plot(x, y, 'o', label='data')\n",
    "ax.plot(x, results.predict(), 'r--.', label='OLS')\n",
    "ax.plot(x, lower, \"r--\")\n",
    "ax.plot(x, upper, \"r--\")"
   ]
  },
  {
   "cell_type": "code",
   "execution_count": null,
   "id": "d8e8b229-94a0-4e56-bbf3-89f5e1a45246",
   "metadata": {},
   "outputs": [],
   "source": []
  }
 ],
 "metadata": {
  "kernelspec": {
   "display_name": "Python 3 (ipykernel)",
   "language": "python",
   "name": "python3"
  },
  "language_info": {
   "codemirror_mode": {
    "name": "ipython",
    "version": 3
   },
   "file_extension": ".py",
   "mimetype": "text/x-python",
   "name": "python",
   "nbconvert_exporter": "python",
   "pygments_lexer": "ipython3",
   "version": "3.9.12"
  }
 },
 "nbformat": 4,
 "nbformat_minor": 5
}
