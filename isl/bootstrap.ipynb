{
 "cells": [
  {
   "cell_type": "code",
   "execution_count": 18,
   "id": "ebba10e4-ded3-42e3-9286-492dc232b656",
   "metadata": {},
   "outputs": [],
   "source": [
    "import pandas as pd\n",
    "import numpy as np\n",
    "\n",
    "seed = 100"
   ]
  },
  {
   "cell_type": "code",
   "execution_count": 4,
   "id": "ee4789a1-6213-4766-a82d-49507b0f41f1",
   "metadata": {},
   "outputs": [],
   "source": [
    "df = pd.read_csv('/data/Portfolio.csv')"
   ]
  },
  {
   "cell_type": "code",
   "execution_count": 12,
   "id": "70d45ec7-57b4-477d-b730-a2e04649e9be",
   "metadata": {},
   "outputs": [],
   "source": [
    "from scipy.stats import bootstrap"
   ]
  },
  {
   "cell_type": "code",
   "execution_count": 66,
   "id": "a08a8551-9541-467c-8e17-877eb58a27ca",
   "metadata": {},
   "outputs": [
    {
     "name": "stdout",
     "output_type": "stream",
     "text": [
      "confidence interval: ConfidenceInterval(low=0.9815687354232635, high=1.1839551694625403)\n",
      "standard error: 0.05187451072516122\n"
     ]
    }
   ],
   "source": [
    "data = (df['X'],)\n",
    "result = bootstrap(data, np.std, confidence_level=0.95, random_state=seed, n_resamples=100)\n",
    "print('confidence interval:', result.confidence_interval)\n",
    "print('standard error:', result.standard_error)"
   ]
  },
  {
   "cell_type": "code",
   "execution_count": 92,
   "id": "b1aa342c-d301-473a-a782-a73985fd31ff",
   "metadata": {},
   "outputs": [
    {
     "name": "stdout",
     "output_type": "stream",
     "text": [
      "actual: 0.5766511516104116\n",
      "confidence interval: ConfidenceInterval(low=0.5223970352076669, high=0.6092241104183291)\n",
      "standard error: 0.051897586897835114\n"
     ]
    }
   ],
   "source": [
    "data = (df['X'], df['Y'])\n",
    "\n",
    "\n",
    "def alpha(x, y):\n",
    "    ox = np.var(x)\n",
    "    oy = np.var(y)\n",
    "    together = np.stack((x, y), axis=0) # rows are variables by default\n",
    "    oxy = np.cov(together)[0][1] # covariance\n",
    "    return (oy - oxy) / (ox + oy - 2 * oxy)\n",
    "\n",
    "result = bootstrap(data, \n",
    "                   alpha, \n",
    "                   confidence_level=0.95, \n",
    "                   random_state=seed, \n",
    "                   n_resamples=10, \n",
    "                   paired=True, \n",
    "                   vectorized=False)\n",
    "\n",
    "print('actual:', alpha(data[0], data[1]))\n",
    "print('confidence interval:', result.confidence_interval)\n",
    "print('standard error:', result.standard_error)\n",
    "\n"
   ]
  },
  {
   "cell_type": "code",
   "execution_count": 94,
   "id": "28d7a4c9-ec1b-414d-9adb-107ed2fefa47",
   "metadata": {},
   "outputs": [],
   "source": [
    "# you can also use bootstrap to estimate the SE of the regression coeffs\n",
    "# but it's basically what we already did again, so i won't do it here"
   ]
  },
  {
   "cell_type": "code",
   "execution_count": null,
   "id": "d7fe5db9-6018-492e-8626-b144e1eb4fb3",
   "metadata": {},
   "outputs": [],
   "source": []
  }
 ],
 "metadata": {
  "kernelspec": {
   "display_name": "Python 3 (ipykernel)",
   "language": "python",
   "name": "python3"
  },
  "language_info": {
   "codemirror_mode": {
    "name": "ipython",
    "version": 3
   },
   "file_extension": ".py",
   "mimetype": "text/x-python",
   "name": "python",
   "nbconvert_exporter": "python",
   "pygments_lexer": "ipython3",
   "version": "3.9.12"
  }
 },
 "nbformat": 4,
 "nbformat_minor": 5
}
