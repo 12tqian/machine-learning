{
 "cells": [
  {
   "cell_type": "code",
   "execution_count": 2,
   "id": "fc7f6bbe-efe3-4e51-b1a4-fe903919ec33",
   "metadata": {},
   "outputs": [],
   "source": [
    "import pandas as pd\n",
    "import numpy as np\n",
    "import os"
   ]
  },
  {
   "cell_type": "code",
   "execution_count": 124,
   "id": "179729a6-fab8-4aa9-b6a8-56780418fac9",
   "metadata": {},
   "outputs": [],
   "source": [
    "df = pd.read_csv('../data/Smarket.csv')"
   ]
  },
  {
   "cell_type": "code",
   "execution_count": 4,
   "id": "48eca0c3-e2c4-45a3-be89-07cdc862c46a",
   "metadata": {},
   "outputs": [
    {
     "data": {
      "text/html": [
       "<div>\n",
       "<style scoped>\n",
       "    .dataframe tbody tr th:only-of-type {\n",
       "        vertical-align: middle;\n",
       "    }\n",
       "\n",
       "    .dataframe tbody tr th {\n",
       "        vertical-align: top;\n",
       "    }\n",
       "\n",
       "    .dataframe thead th {\n",
       "        text-align: right;\n",
       "    }\n",
       "</style>\n",
       "<table border=\"1\" class=\"dataframe\">\n",
       "  <thead>\n",
       "    <tr style=\"text-align: right;\">\n",
       "      <th></th>\n",
       "      <th>Year</th>\n",
       "      <th>Lag1</th>\n",
       "      <th>Lag2</th>\n",
       "      <th>Lag3</th>\n",
       "      <th>Lag4</th>\n",
       "      <th>Lag5</th>\n",
       "      <th>Volume</th>\n",
       "      <th>Today</th>\n",
       "      <th>Direction</th>\n",
       "    </tr>\n",
       "  </thead>\n",
       "  <tbody>\n",
       "    <tr>\n",
       "      <th>0</th>\n",
       "      <td>2001</td>\n",
       "      <td>0.381</td>\n",
       "      <td>-0.192</td>\n",
       "      <td>-2.624</td>\n",
       "      <td>-1.055</td>\n",
       "      <td>5.010</td>\n",
       "      <td>1.1913</td>\n",
       "      <td>0.959</td>\n",
       "      <td>Up</td>\n",
       "    </tr>\n",
       "    <tr>\n",
       "      <th>1</th>\n",
       "      <td>2001</td>\n",
       "      <td>0.959</td>\n",
       "      <td>0.381</td>\n",
       "      <td>-0.192</td>\n",
       "      <td>-2.624</td>\n",
       "      <td>-1.055</td>\n",
       "      <td>1.2965</td>\n",
       "      <td>1.032</td>\n",
       "      <td>Up</td>\n",
       "    </tr>\n",
       "    <tr>\n",
       "      <th>2</th>\n",
       "      <td>2001</td>\n",
       "      <td>1.032</td>\n",
       "      <td>0.959</td>\n",
       "      <td>0.381</td>\n",
       "      <td>-0.192</td>\n",
       "      <td>-2.624</td>\n",
       "      <td>1.4112</td>\n",
       "      <td>-0.623</td>\n",
       "      <td>Down</td>\n",
       "    </tr>\n",
       "    <tr>\n",
       "      <th>3</th>\n",
       "      <td>2001</td>\n",
       "      <td>-0.623</td>\n",
       "      <td>1.032</td>\n",
       "      <td>0.959</td>\n",
       "      <td>0.381</td>\n",
       "      <td>-0.192</td>\n",
       "      <td>1.2760</td>\n",
       "      <td>0.614</td>\n",
       "      <td>Up</td>\n",
       "    </tr>\n",
       "    <tr>\n",
       "      <th>4</th>\n",
       "      <td>2001</td>\n",
       "      <td>0.614</td>\n",
       "      <td>-0.623</td>\n",
       "      <td>1.032</td>\n",
       "      <td>0.959</td>\n",
       "      <td>0.381</td>\n",
       "      <td>1.2057</td>\n",
       "      <td>0.213</td>\n",
       "      <td>Up</td>\n",
       "    </tr>\n",
       "  </tbody>\n",
       "</table>\n",
       "</div>"
      ],
      "text/plain": [
       "   Year   Lag1   Lag2   Lag3   Lag4   Lag5  Volume  Today Direction\n",
       "0  2001  0.381 -0.192 -2.624 -1.055  5.010  1.1913  0.959        Up\n",
       "1  2001  0.959  0.381 -0.192 -2.624 -1.055  1.2965  1.032        Up\n",
       "2  2001  1.032  0.959  0.381 -0.192 -2.624  1.4112 -0.623      Down\n",
       "3  2001 -0.623  1.032  0.959  0.381 -0.192  1.2760  0.614        Up\n",
       "4  2001  0.614 -0.623  1.032  0.959  0.381  1.2057  0.213        Up"
      ]
     },
     "execution_count": 4,
     "metadata": {},
     "output_type": "execute_result"
    }
   ],
   "source": [
    "df.head()"
   ]
  },
  {
   "cell_type": "code",
   "execution_count": 5,
   "id": "e7798655-1caa-4283-ad11-52ae9296f457",
   "metadata": {},
   "outputs": [
    {
     "name": "stdout",
     "output_type": "stream",
     "text": [
      "              Year         Lag1         Lag2         Lag3         Lag4  \\\n",
      "count  1250.000000  1250.000000  1250.000000  1250.000000  1250.000000   \n",
      "mean   2003.016000     0.003834     0.003919     0.001716     0.001636   \n",
      "std       1.409018     1.136299     1.136280     1.138703     1.138774   \n",
      "min    2001.000000    -4.922000    -4.922000    -4.922000    -4.922000   \n",
      "25%    2002.000000    -0.639500    -0.639500    -0.640000    -0.640000   \n",
      "50%    2003.000000     0.039000     0.039000     0.038500     0.038500   \n",
      "75%    2004.000000     0.596750     0.596750     0.596750     0.596750   \n",
      "max    2005.000000     5.733000     5.733000     5.733000     5.733000   \n",
      "\n",
      "             Lag5       Volume        Today  \n",
      "count  1250.00000  1250.000000  1250.000000  \n",
      "mean      0.00561     1.478305     0.003138  \n",
      "std       1.14755     0.360357     1.136334  \n",
      "min      -4.92200     0.356070    -4.922000  \n",
      "25%      -0.64000     1.257400    -0.639500  \n",
      "50%       0.03850     1.422950     0.038500  \n",
      "75%       0.59700     1.641675     0.596750  \n",
      "max       5.73300     3.152470     5.733000  \n"
     ]
    }
   ],
   "source": [
    "print(df.describe())"
   ]
  },
  {
   "cell_type": "code",
   "execution_count": 7,
   "id": "1ca64a06-de62-4e91-bff7-c24a590bd864",
   "metadata": {},
   "outputs": [
    {
     "name": "stdout",
     "output_type": "stream",
     "text": [
      "            Year      Lag1      Lag2      Lag3      Lag4      Lag5    Volume  \\\n",
      "Year    1.000000  0.029700  0.030596  0.033195  0.035689  0.029788  0.539006   \n",
      "Lag1    0.029700  1.000000 -0.026294 -0.010803 -0.002986 -0.005675  0.040910   \n",
      "Lag2    0.030596 -0.026294  1.000000 -0.025897 -0.010854 -0.003558 -0.043383   \n",
      "Lag3    0.033195 -0.010803 -0.025897  1.000000 -0.024051 -0.018808 -0.041824   \n",
      "Lag4    0.035689 -0.002986 -0.010854 -0.024051  1.000000 -0.027084 -0.048414   \n",
      "Lag5    0.029788 -0.005675 -0.003558 -0.018808 -0.027084  1.000000 -0.022002   \n",
      "Volume  0.539006  0.040910 -0.043383 -0.041824 -0.048414 -0.022002  1.000000   \n",
      "Today   0.030095 -0.026155 -0.010250 -0.002448 -0.006900 -0.034860  0.014592   \n",
      "\n",
      "           Today  \n",
      "Year    0.030095  \n",
      "Lag1   -0.026155  \n",
      "Lag2   -0.010250  \n",
      "Lag3   -0.002448  \n",
      "Lag4   -0.006900  \n",
      "Lag5   -0.034860  \n",
      "Volume  0.014592  \n",
      "Today   1.000000  \n"
     ]
    }
   ],
   "source": [
    "print(df.corr()) # get the correlation matrix"
   ]
  },
  {
   "cell_type": "code",
   "execution_count": 8,
   "id": "55b5d7a1-41a0-4cd2-903a-4d550b558b7b",
   "metadata": {},
   "outputs": [],
   "source": [
    "import matplotlib as mpl\n",
    "import matplotlib.pyplot as plt"
   ]
  },
  {
   "cell_type": "code",
   "execution_count": 11,
   "id": "f83d392a-a8e8-4eab-abe9-280d7a1ca9e8",
   "metadata": {},
   "outputs": [
    {
     "data": {
      "text/plain": [
       "[<matplotlib.lines.Line2D at 0x7f7c788b5610>]"
      ]
     },
     "execution_count": 11,
     "metadata": {},
     "output_type": "execute_result"
    },
    {
     "data": {
      "image/png": "[encoded data removed]",
      "text/plain": [
       "<Figure size 720x432 with 1 Axes>"
      ]
     },
     "metadata": {
      "needs_background": "light"
     },
     "output_type": "display_data"
    }
   ],
   "source": [
    "fig, ax = plt.subplots(figsize=(10, 6))\n",
    "ax.plot(df['Year'], df['Volume'], 'bo')"
   ]
  },
  {
   "cell_type": "code",
   "execution_count": 29,
   "id": "57b6ee91-8a25-48c5-b45a-65cefa4116be",
   "metadata": {},
   "outputs": [
    {
     "data": {
      "text/plain": [
       "<AxesSubplot:title={'center':'Volume'}, xlabel='Year'>"
      ]
     },
     "execution_count": 29,
     "metadata": {},
     "output_type": "execute_result"
    },
    {
     "data": {
      "image/png": "[encoded data removed]",
      "text/plain": [
       "<Figure size 432x288 with 1 Axes>"
      ]
     },
     "metadata": {
      "needs_background": "light"
     },
     "output_type": "display_data"
    }
   ],
   "source": [
    "df.boxplot(column='Volume', by='Year') # boxplots of volume by years, can see increasing trend more easily"
   ]
  },
  {
   "cell_type": "code",
   "execution_count": 69,
   "id": "1ab4f5c5-8401-4d89-928e-b08e5268dabc",
   "metadata": {},
   "outputs": [],
   "source": [
    "import statsmodels.api as sm"
   ]
  },
  {
   "cell_type": "code",
   "execution_count": 91,
   "id": "8910467c-93fc-4f4f-8474-afb8e3a3841a",
   "metadata": {},
   "outputs": [],
   "source": [
    "# first we try logistic regression\n",
    "y = df['Direction'].apply(lambda x: 1 if x == 'Up' else 0) # map data\n",
    "x = df[['Lag1', 'Lag2', 'Lag3', 'Lag4', 'Lag5', 'Volume']]\n",
    "x = sm.add_constant(x) # remember to always do this :(\n",
    "results = sm.GLM(y, x, family=sm.families.Binomial()).fit() # you could also just use Logit, but this is more general"
   ]
  },
  {
   "cell_type": "code",
   "execution_count": 92,
   "id": "f7c6de02-3125-4d58-9861-70f7b77be590",
   "metadata": {},
   "outputs": [
    {
     "name": "stdout",
     "output_type": "stream",
     "text": [
      "                 Generalized Linear Model Regression Results                  \n",
      "==============================================================================\n",
      "Dep. Variable:              Direction   No. Observations:                 1250\n",
      "Model:                            GLM   Df Residuals:                     1243\n",
      "Model Family:                Binomial   Df Model:                            6\n",
      "Link Function:                  Logit   Scale:                          1.0000\n",
      "Method:                          IRLS   Log-Likelihood:                -863.79\n",
      "Date:                Wed, 20 Jul 2022   Deviance:                       1727.6\n",
      "Time:                        15:20:20   Pearson chi2:                 1.25e+03\n",
      "No. Iterations:                     4   Pseudo R-squ. (CS):           0.002868\n",
      "Covariance Type:            nonrobust                                         \n",
      "==============================================================================\n",
      "                 coef    std err          z      P>|z|      [0.025      0.975]\n",
      "------------------------------------------------------------------------------\n",
      "const         -0.1260      0.241     -0.523      0.601      -0.598       0.346\n",
      "Lag1          -0.0731      0.050     -1.457      0.145      -0.171       0.025\n",
      "Lag2          -0.0423      0.050     -0.845      0.398      -0.140       0.056\n",
      "Lag3           0.0111      0.050      0.222      0.824      -0.087       0.109\n",
      "Lag4           0.0094      0.050      0.187      0.851      -0.089       0.107\n",
      "Lag5           0.0103      0.050      0.208      0.835      -0.087       0.107\n",
      "Volume         0.1354      0.158      0.855      0.392      -0.175       0.446\n",
      "==============================================================================\n"
     ]
    }
   ],
   "source": [
    "print(results.summary())"
   ]
  },
  {
   "cell_type": "code",
   "execution_count": 137,
   "id": "33f72710-f861-45cf-b244-cf7c6d56602a",
   "metadata": {},
   "outputs": [
    {
     "name": "stdout",
     "output_type": "stream",
     "text": [
      "Direction  Predicted\n",
      "Down       Down         145\n",
      "           Up           457\n",
      "Up         Down         141\n",
      "           Up           507\n",
      "dtype: int64\n",
      "0.5216\n"
     ]
    }
   ],
   "source": [
    "pred = results.predict(x)\n",
    "format_pred = pred.apply(lambda x: 'Up' if x > 0.5 else 'Down') # from this we can calculate error rates\n",
    "combined = np.vstack((df['Direction'], format_pred)).T\n",
    "tabled = pd.DataFrame(combined)\n",
    "tabled.columns = ['Direction', 'Predicted']\n",
    "print(tabled.groupby(['Direction', 'Predicted']).size()) # error rates\n",
    "print((format_pred == df['Direction']).mean()) # error rate"
   ]
  },
  {
   "cell_type": "code",
   "execution_count": 140,
   "id": "371f7a7b-26ed-4720-a22b-0f6ffcb8da19",
   "metadata": {},
   "outputs": [],
   "source": [
    "# now we do linear discriminant\n",
    "# we use sklearn now cause this statsmodels doesn't support it oops\n",
    "from sklearn.discriminant_analysis import LinearDiscriminantAnalysis"
   ]
  },
  {
   "cell_type": "code",
   "execution_count": 192,
   "id": "45b15182-449f-43cc-b1c4-42e23405523c",
   "metadata": {},
   "outputs": [
    {
     "name": "stdout",
     "output_type": "stream",
     "text": [
      "classes: ['Down' 'Up']\n",
      "coefficients: [[-0.05544078 -0.0443452 ]]\n",
      "means:\n",
      " [[ 0.04279022  0.03389409]\n",
      " [-0.03954635 -0.03132544]]\n"
     ]
    }
   ],
   "source": [
    "df_train = df[df['Year'] < 2005]\n",
    "x_new = df_train[['Lag1', 'Lag2']]\n",
    "y_new = df_train['Direction']\n",
    "lda = LinearDiscriminantAnalysis()\n",
    "lda.fit(x_new, y_new)\n",
    "# for some reasons coefficients are different but same results as ISL, confidence vs scaling?\n",
    "print('classes:', lda.classes_)\n",
    "print('coefficients:', lda.coef_) \n",
    "print('means:\\n', lda.means_)\n",
    "# if result of linear discrminant is large, we predict increase, else we predict decrease in market"
   ]
  },
  {
   "cell_type": "code",
   "execution_count": 193,
   "id": "82471376-10a3-479b-aeef-e87f6d0b05f5",
   "metadata": {},
   "outputs": [
    {
     "data": {
      "text/plain": [
       "998"
      ]
     },
     "execution_count": 193,
     "metadata": {},
     "output_type": "execute_result"
    }
   ],
   "source": [
    "transform = np.vectorize(lambda x: 1 if x > 0 else 0)\n",
    "convert = np.vectorize(lambda x: 1 if x == 'Up' else 0)\n",
    "(transform(lda.decision_function(x_new)) == convert(lda.predict(x_new))).sum() # two equivalent methods\n",
    "# note that decision function doesn't apply ay logistic transform"
   ]
  },
  {
   "cell_type": "code",
   "execution_count": 194,
   "id": "056728bc-c30a-408c-908c-d3aad2a8ca23",
   "metadata": {},
   "outputs": [
    {
     "name": "stdout",
     "output_type": "stream",
     "text": [
      "classes: ['Down' 'Up']\n",
      "coefficients: [array([[ 0.57172606,  0.82044458],\n",
      "       [-0.82044458,  0.57172606]]), array([[-0.84630247, -0.53270267],\n",
      "       [ 0.53270267, -0.84630247]])]\n",
      "means:\n",
      " [[ 0.04279022  0.03389409]\n",
      " [-0.03954635 -0.03132544]]\n"
     ]
    }
   ],
   "source": [
    "# quadratic discriminant analysis\n",
    "from sklearn.discriminant_analysis import QuadraticDiscriminantAnalysis\n",
    "qda = QuadraticDiscriminantAnalysis()\n",
    "qda.fit(x_new, y_new)\n",
    "# for some reasons coefficients are different but same results as ISL, confidence vs scaling?\n",
    "print('classes:', qda.classes_)\n",
    "print('coefficients:', qda.rotations_) \n",
    "print('means:\\n', qda.means_)"
   ]
  },
  {
   "cell_type": "code",
   "execution_count": 196,
   "id": "26d257e7-a2c1-4580-b5fd-4aba5f6cba65",
   "metadata": {},
   "outputs": [],
   "source": [
    "from sklearn.neighbors import KNeighborsClassifier"
   ]
  },
  {
   "cell_type": "code",
   "execution_count": 221,
   "id": "8bfad33e-2e30-491e-be0b-bf2ce716f9fb",
   "metadata": {},
   "outputs": [],
   "source": [
    "x_std = x_new # standardize the data, this matters because KNN is based off distance\n",
    "x_std = (x_std - x_std.mean()) / x_std.std()"
   ]
  },
  {
   "cell_type": "code",
   "execution_count": 222,
   "id": "914a1915-519e-4f8b-a8b0-a9c734c360f7",
   "metadata": {},
   "outputs": [
    {
     "name": "stdout",
     "output_type": "stream",
     "text": [
      "0.7545090180360722\n"
     ]
    }
   ],
   "source": [
    "knn = KNeighborsClassifier(n_neighbors=3) # KNN classifier\n",
    "results = knn.fit(x_std, y_new)\n",
    "print(knn.score(x_std, y_new)) # accuracy"
   ]
  }
 ],
 "metadata": {
  "kernelspec": {
   "display_name": "Python 3 (ipykernel)",
   "language": "python",
   "name": "python3"
  },
  "language_info": {
   "codemirror_mode": {
    "name": "ipython",
    "version": 3
   },
   "file_extension": ".py",
   "mimetype": "text/x-python",
   "name": "python",
   "nbconvert_exporter": "python",
   "pygments_lexer": "ipython3",
   "version": "3.9.12"
  }
 },
 "nbformat": 4,
 "nbformat_minor": 5
}
